{
  "cells": [
    {
      "cell_type": "markdown",
      "metadata": {
        "id": "oMfZ98EMLd3W"
      },
      "source": [
        "#### This notebook demonstrates the use of adversarial debiasing algorithm to learn a fair classifier.\n",
        "Adversarial debiasing [1] is an in-processing technique that learns a classifier to maximize prediction accuracy and simultaneously reduce an adversary's ability to determine the protected attribute from the predictions. This approach leads to a fair classifier as the predictions cannot carry any group discrimination information that the adversary can exploit. We will see how to use this algorithm for learning models with and without fairness constraints and apply them on the Adult dataset."
      ]
    },
    {
      "cell_type": "code",
      "source": [
        "# Install AIF360\n",
        "!pip install aif360"
      ],
      "metadata": {
        "id": "lZmDBRg6MMzW",
        "outputId": "c5ac1c99-f390-4ab9-92e3-1f784b8ec59d",
        "colab": {
          "base_uri": "https://localhost:8080/"
        }
      },
      "execution_count": 6,
      "outputs": [
        {
          "output_type": "stream",
          "name": "stdout",
          "text": [
            "Requirement already satisfied: aif360 in /usr/local/lib/python3.10/dist-packages (0.5.0)\n",
            "Requirement already satisfied: numpy>=1.16 in /usr/local/lib/python3.10/dist-packages (from aif360) (1.23.5)\n",
            "Requirement already satisfied: scipy>=1.2.0 in /usr/local/lib/python3.10/dist-packages (from aif360) (1.11.2)\n",
            "Requirement already satisfied: pandas>=0.24.0 in /usr/local/lib/python3.10/dist-packages (from aif360) (1.5.3)\n",
            "Requirement already satisfied: scikit-learn>=1.0 in /usr/local/lib/python3.10/dist-packages (from aif360) (1.2.2)\n",
            "Requirement already satisfied: matplotlib in /usr/local/lib/python3.10/dist-packages (from aif360) (3.7.1)\n",
            "Requirement already satisfied: python-dateutil>=2.8.1 in /usr/local/lib/python3.10/dist-packages (from pandas>=0.24.0->aif360) (2.8.2)\n",
            "Requirement already satisfied: pytz>=2020.1 in /usr/local/lib/python3.10/dist-packages (from pandas>=0.24.0->aif360) (2023.3.post1)\n",
            "Requirement already satisfied: joblib>=1.1.1 in /usr/local/lib/python3.10/dist-packages (from scikit-learn>=1.0->aif360) (1.3.2)\n",
            "Requirement already satisfied: threadpoolctl>=2.0.0 in /usr/local/lib/python3.10/dist-packages (from scikit-learn>=1.0->aif360) (3.2.0)\n",
            "Requirement already satisfied: contourpy>=1.0.1 in /usr/local/lib/python3.10/dist-packages (from matplotlib->aif360) (1.1.0)\n",
            "Requirement already satisfied: cycler>=0.10 in /usr/local/lib/python3.10/dist-packages (from matplotlib->aif360) (0.11.0)\n",
            "Requirement already satisfied: fonttools>=4.22.0 in /usr/local/lib/python3.10/dist-packages (from matplotlib->aif360) (4.42.1)\n",
            "Requirement already satisfied: kiwisolver>=1.0.1 in /usr/local/lib/python3.10/dist-packages (from matplotlib->aif360) (1.4.5)\n",
            "Requirement already satisfied: packaging>=20.0 in /usr/local/lib/python3.10/dist-packages (from matplotlib->aif360) (23.1)\n",
            "Requirement already satisfied: pillow>=6.2.0 in /usr/local/lib/python3.10/dist-packages (from matplotlib->aif360) (9.4.0)\n",
            "Requirement already satisfied: pyparsing>=2.3.1 in /usr/local/lib/python3.10/dist-packages (from matplotlib->aif360) (3.1.1)\n",
            "Requirement already satisfied: six>=1.5 in /usr/local/lib/python3.10/dist-packages (from python-dateutil>=2.8.1->pandas>=0.24.0->aif360) (1.16.0)\n"
          ]
        }
      ]
    },
    {
      "cell_type": "code",
      "execution_count": 7,
      "metadata": {
        "id": "2KhwTW5NLd3Y"
      },
      "outputs": [],
      "source": [
        "%matplotlib inline\n",
        "# Load all necessary packages\n",
        "import sys\n",
        "sys.path.append(\"../\")\n",
        "from aif360.datasets import BinaryLabelDataset\n",
        "from aif360.datasets import AdultDataset, GermanDataset, CompasDataset\n",
        "from aif360.metrics import BinaryLabelDatasetMetric\n",
        "from aif360.metrics import ClassificationMetric\n",
        "from aif360.metrics.utils import compute_boolean_conditioning_vector\n",
        "\n",
        "from aif360.algorithms.preprocessing.optim_preproc_helpers.data_preproc_functions import load_preproc_data_adult, load_preproc_data_compas, load_preproc_data_german\n",
        "\n",
        "from aif360.algorithms.inprocessing.adversarial_debiasing import AdversarialDebiasing\n",
        "\n",
        "from sklearn.linear_model import LogisticRegression\n",
        "from sklearn.preprocessing import StandardScaler, MaxAbsScaler\n",
        "from sklearn.metrics import accuracy_score\n",
        "\n",
        "from IPython.display import Markdown, display\n",
        "import matplotlib.pyplot as plt\n",
        "\n",
        "import tensorflow.compat.v1 as tf\n",
        "tf.disable_eager_execution()"
      ]
    },
    {
      "cell_type": "markdown",
      "metadata": {
        "id": "0CvsCIGnLd3a"
      },
      "source": [
        "#### Load dataset and set options"
      ]
    },
    {
      "cell_type": "code",
      "source": [
        "import urllib.request\n",
        "import os\n",
        "from aif360.algorithms.preprocessing.optim_preproc_helpers.data_preproc_functions import load_preproc_data_adult\n",
        "\n",
        "# URLs for the dataset files\n",
        "urls = [\n",
        "    \"https://archive.ics.uci.edu/ml/machine-learning-databases/adult/adult.data\",\n",
        "    \"https://archive.ics.uci.edu/ml/machine-learning-databases/adult/adult.test\",\n",
        "    \"https://archive.ics.uci.edu/ml/machine-learning-databases/adult/adult.names\"\n",
        "]\n",
        "\n",
        "# Folder to store the dataset files\n",
        "data_folder = \"/usr/local/lib/python3.10/dist-packages/aif360/data/raw/adult/\"\n",
        "\n",
        "# Ensure the folder exists\n",
        "os.makedirs(data_folder, exist_ok=True)\n",
        "\n",
        "# Download and save the dataset files\n",
        "for url in urls:\n",
        "    file_name = url.split(\"/\")[-1]\n",
        "    file_path = os.path.join(data_folder, file_name)\n",
        "    urllib.request.urlretrieve(url, file_path)\n",
        "    print(f\"Downloaded {file_name} and saved to {file_path}\")\n",
        "\n",
        "# Load the dataset into the dataset_orig variable\n",
        "dataset_orig = load_preproc_data_adult()\n"
      ],
      "metadata": {
        "id": "cGtpUWtBRRJ2",
        "outputId": "8be67887-7fba-4c18-80e8-e03e3b4d7683",
        "colab": {
          "base_uri": "https://localhost:8080/"
        }
      },
      "execution_count": 10,
      "outputs": [
        {
          "output_type": "stream",
          "name": "stdout",
          "text": [
            "Downloaded adult.data and saved to /usr/local/lib/python3.10/dist-packages/aif360/data/raw/adult/adult.data\n",
            "Downloaded adult.test and saved to /usr/local/lib/python3.10/dist-packages/aif360/data/raw/adult/adult.test\n",
            "Downloaded adult.names and saved to /usr/local/lib/python3.10/dist-packages/aif360/data/raw/adult/adult.names\n"
          ]
        }
      ]
    },
    {
      "cell_type": "code",
      "execution_count": 11,
      "metadata": {
        "id": "KgY9-4HXLd3a"
      },
      "outputs": [],
      "source": [
        "# Get the dataset and split into train and test\n",
        "privileged_groups = [{'sex': 1}]\n",
        "unprivileged_groups = [{'sex': 0}]\n",
        "\n",
        "dataset_orig_train, dataset_orig_test = dataset_orig.split([0.7], shuffle=True)"
      ]
    },
    {
      "cell_type": "code",
      "execution_count": 12,
      "metadata": {
        "id": "sP1b1wD8Ld3a",
        "outputId": "d3e0830b-54e9-4924-b562-fe8dacb95967",
        "colab": {
          "base_uri": "https://localhost:8080/",
          "height": 320
        }
      },
      "outputs": [
        {
          "output_type": "display_data",
          "data": {
            "text/plain": [
              "<IPython.core.display.Markdown object>"
            ],
            "text/markdown": "#### Training Dataset shape"
          },
          "metadata": {}
        },
        {
          "output_type": "stream",
          "name": "stdout",
          "text": [
            "(34189, 18)\n"
          ]
        },
        {
          "output_type": "display_data",
          "data": {
            "text/plain": [
              "<IPython.core.display.Markdown object>"
            ],
            "text/markdown": "#### Favorable and unfavorable labels"
          },
          "metadata": {}
        },
        {
          "output_type": "stream",
          "name": "stdout",
          "text": [
            "1.0 0.0\n"
          ]
        },
        {
          "output_type": "display_data",
          "data": {
            "text/plain": [
              "<IPython.core.display.Markdown object>"
            ],
            "text/markdown": "#### Protected attribute names"
          },
          "metadata": {}
        },
        {
          "output_type": "stream",
          "name": "stdout",
          "text": [
            "['sex', 'race']\n"
          ]
        },
        {
          "output_type": "display_data",
          "data": {
            "text/plain": [
              "<IPython.core.display.Markdown object>"
            ],
            "text/markdown": "#### Privileged and unprivileged protected attribute values"
          },
          "metadata": {}
        },
        {
          "output_type": "stream",
          "name": "stdout",
          "text": [
            "[array([1.]), array([1.])] [array([0.]), array([0.])]\n"
          ]
        },
        {
          "output_type": "display_data",
          "data": {
            "text/plain": [
              "<IPython.core.display.Markdown object>"
            ],
            "text/markdown": "#### Dataset feature names"
          },
          "metadata": {}
        },
        {
          "output_type": "stream",
          "name": "stdout",
          "text": [
            "['race', 'sex', 'Age (decade)=10', 'Age (decade)=20', 'Age (decade)=30', 'Age (decade)=40', 'Age (decade)=50', 'Age (decade)=60', 'Age (decade)=>=70', 'Education Years=6', 'Education Years=7', 'Education Years=8', 'Education Years=9', 'Education Years=10', 'Education Years=11', 'Education Years=12', 'Education Years=<6', 'Education Years=>12']\n"
          ]
        }
      ],
      "source": [
        "# print out some labels, names, etc.\n",
        "display(Markdown(\"#### Training Dataset shape\"))\n",
        "print(dataset_orig_train.features.shape)\n",
        "display(Markdown(\"#### Favorable and unfavorable labels\"))\n",
        "print(dataset_orig_train.favorable_label, dataset_orig_train.unfavorable_label)\n",
        "display(Markdown(\"#### Protected attribute names\"))\n",
        "print(dataset_orig_train.protected_attribute_names)\n",
        "display(Markdown(\"#### Privileged and unprivileged protected attribute values\"))\n",
        "print(dataset_orig_train.privileged_protected_attributes,\n",
        "      dataset_orig_train.unprivileged_protected_attributes)\n",
        "display(Markdown(\"#### Dataset feature names\"))\n",
        "print(dataset_orig_train.feature_names)"
      ]
    },
    {
      "cell_type": "markdown",
      "metadata": {
        "id": "7nh3n5mILd3a"
      },
      "source": [
        "#### Metric for original training data"
      ]
    },
    {
      "cell_type": "code",
      "execution_count": 13,
      "metadata": {
        "id": "a-O-raJgLd3b",
        "outputId": "c59891be-dc17-43ce-b132-1a83ea8cf609",
        "colab": {
          "base_uri": "https://localhost:8080/",
          "height": 91
        }
      },
      "outputs": [
        {
          "output_type": "display_data",
          "data": {
            "text/plain": [
              "<IPython.core.display.Markdown object>"
            ],
            "text/markdown": "#### Original training dataset"
          },
          "metadata": {}
        },
        {
          "output_type": "stream",
          "name": "stdout",
          "text": [
            "Train set: Difference in mean outcomes between unprivileged and privileged groups = -0.201473\n",
            "Test set: Difference in mean outcomes between unprivileged and privileged groups = -0.178281\n"
          ]
        }
      ],
      "source": [
        "# Metric for the original dataset\n",
        "metric_orig_train = BinaryLabelDatasetMetric(dataset_orig_train,\n",
        "                                             unprivileged_groups=unprivileged_groups,\n",
        "                                             privileged_groups=privileged_groups)\n",
        "display(Markdown(\"#### Original training dataset\"))\n",
        "print(\"Train set: Difference in mean outcomes between unprivileged and privileged groups = %f\" % metric_orig_train.mean_difference())\n",
        "metric_orig_test = BinaryLabelDatasetMetric(dataset_orig_test,\n",
        "                                             unprivileged_groups=unprivileged_groups,\n",
        "                                             privileged_groups=privileged_groups)\n",
        "print(\"Test set: Difference in mean outcomes between unprivileged and privileged groups = %f\" % metric_orig_test.mean_difference())"
      ]
    },
    {
      "cell_type": "code",
      "execution_count": 14,
      "metadata": {
        "id": "i8Vs9gZ0Ld3b",
        "outputId": "e688796e-9cf9-4ee6-964a-718968da06a3",
        "colab": {
          "base_uri": "https://localhost:8080/",
          "height": 91
        }
      },
      "outputs": [
        {
          "output_type": "display_data",
          "data": {
            "text/plain": [
              "<IPython.core.display.Markdown object>"
            ],
            "text/markdown": "#### Scaled dataset - Verify that the scaling does not affect the group label statistics"
          },
          "metadata": {}
        },
        {
          "output_type": "stream",
          "name": "stdout",
          "text": [
            "Train set: Difference in mean outcomes between unprivileged and privileged groups = -0.201473\n",
            "Test set: Difference in mean outcomes between unprivileged and privileged groups = -0.178281\n"
          ]
        }
      ],
      "source": [
        "min_max_scaler = MaxAbsScaler()\n",
        "dataset_orig_train.features = min_max_scaler.fit_transform(dataset_orig_train.features)\n",
        "dataset_orig_test.features = min_max_scaler.transform(dataset_orig_test.features)\n",
        "metric_scaled_train = BinaryLabelDatasetMetric(dataset_orig_train,\n",
        "                             unprivileged_groups=unprivileged_groups,\n",
        "                             privileged_groups=privileged_groups)\n",
        "display(Markdown(\"#### Scaled dataset - Verify that the scaling does not affect the group label statistics\"))\n",
        "print(\"Train set: Difference in mean outcomes between unprivileged and privileged groups = %f\" % metric_scaled_train.mean_difference())\n",
        "metric_scaled_test = BinaryLabelDatasetMetric(dataset_orig_test,\n",
        "                             unprivileged_groups=unprivileged_groups,\n",
        "                             privileged_groups=privileged_groups)\n",
        "print(\"Test set: Difference in mean outcomes between unprivileged and privileged groups = %f\" % metric_scaled_test.mean_difference())\n"
      ]
    },
    {
      "cell_type": "markdown",
      "metadata": {
        "id": "wC2EurJkLd3b"
      },
      "source": [
        "### Learn plan classifier without debiasing"
      ]
    },
    {
      "cell_type": "code",
      "execution_count": 15,
      "metadata": {
        "id": "WmkutdJuLd3c"
      },
      "outputs": [],
      "source": [
        "# Load post-processing algorithm that equalizes the odds\n",
        "# Learn parameters with debias set to False\n",
        "sess = tf.Session()\n",
        "plain_model = AdversarialDebiasing(privileged_groups = privileged_groups,\n",
        "                          unprivileged_groups = unprivileged_groups,\n",
        "                          scope_name='plain_classifier',\n",
        "                          debias=False,\n",
        "                          sess=sess)"
      ]
    },
    {
      "cell_type": "code",
      "execution_count": 16,
      "metadata": {
        "scrolled": true,
        "id": "0C17Ss5_Ld3c",
        "outputId": "165f1ed4-5408-4866-eebc-211f74a519ca",
        "colab": {
          "base_uri": "https://localhost:8080/"
        }
      },
      "outputs": [
        {
          "output_type": "stream",
          "name": "stderr",
          "text": [
            "WARNING:tensorflow:From /usr/local/lib/python3.10/dist-packages/tensorflow/python/util/dispatch.py:1176: calling dropout (from tensorflow.python.ops.nn_ops) with keep_prob is deprecated and will be removed in a future version.\n",
            "Instructions for updating:\n",
            "Please use `rate` instead of `keep_prob`. Rate should be set to `rate = 1 - keep_prob`.\n"
          ]
        },
        {
          "output_type": "stream",
          "name": "stdout",
          "text": [
            "epoch 0; iter: 0; batch classifier loss: 0.728883\n",
            "epoch 0; iter: 200; batch classifier loss: 0.394524\n",
            "epoch 1; iter: 0; batch classifier loss: 0.480390\n",
            "epoch 1; iter: 200; batch classifier loss: 0.380544\n",
            "epoch 2; iter: 0; batch classifier loss: 0.394231\n",
            "epoch 2; iter: 200; batch classifier loss: 0.501938\n",
            "epoch 3; iter: 0; batch classifier loss: 0.464210\n",
            "epoch 3; iter: 200; batch classifier loss: 0.393823\n",
            "epoch 4; iter: 0; batch classifier loss: 0.371760\n",
            "epoch 4; iter: 200; batch classifier loss: 0.434270\n",
            "epoch 5; iter: 0; batch classifier loss: 0.445593\n",
            "epoch 5; iter: 200; batch classifier loss: 0.386621\n",
            "epoch 6; iter: 0; batch classifier loss: 0.434529\n",
            "epoch 6; iter: 200; batch classifier loss: 0.401859\n",
            "epoch 7; iter: 0; batch classifier loss: 0.307391\n",
            "epoch 7; iter: 200; batch classifier loss: 0.427325\n",
            "epoch 8; iter: 0; batch classifier loss: 0.481979\n",
            "epoch 8; iter: 200; batch classifier loss: 0.419054\n",
            "epoch 9; iter: 0; batch classifier loss: 0.427229\n",
            "epoch 9; iter: 200; batch classifier loss: 0.384562\n",
            "epoch 10; iter: 0; batch classifier loss: 0.410178\n",
            "epoch 10; iter: 200; batch classifier loss: 0.515474\n",
            "epoch 11; iter: 0; batch classifier loss: 0.394425\n",
            "epoch 11; iter: 200; batch classifier loss: 0.411891\n",
            "epoch 12; iter: 0; batch classifier loss: 0.410216\n",
            "epoch 12; iter: 200; batch classifier loss: 0.384952\n",
            "epoch 13; iter: 0; batch classifier loss: 0.390718\n",
            "epoch 13; iter: 200; batch classifier loss: 0.397186\n",
            "epoch 14; iter: 0; batch classifier loss: 0.426335\n",
            "epoch 14; iter: 200; batch classifier loss: 0.413495\n",
            "epoch 15; iter: 0; batch classifier loss: 0.413468\n",
            "epoch 15; iter: 200; batch classifier loss: 0.453629\n",
            "epoch 16; iter: 0; batch classifier loss: 0.468654\n",
            "epoch 16; iter: 200; batch classifier loss: 0.494685\n",
            "epoch 17; iter: 0; batch classifier loss: 0.421805\n",
            "epoch 17; iter: 200; batch classifier loss: 0.490483\n",
            "epoch 18; iter: 0; batch classifier loss: 0.426717\n",
            "epoch 18; iter: 200; batch classifier loss: 0.503119\n",
            "epoch 19; iter: 0; batch classifier loss: 0.401189\n",
            "epoch 19; iter: 200; batch classifier loss: 0.541927\n",
            "epoch 20; iter: 0; batch classifier loss: 0.410278\n",
            "epoch 20; iter: 200; batch classifier loss: 0.446728\n",
            "epoch 21; iter: 0; batch classifier loss: 0.423600\n",
            "epoch 21; iter: 200; batch classifier loss: 0.365795\n",
            "epoch 22; iter: 0; batch classifier loss: 0.443269\n",
            "epoch 22; iter: 200; batch classifier loss: 0.492458\n",
            "epoch 23; iter: 0; batch classifier loss: 0.419764\n",
            "epoch 23; iter: 200; batch classifier loss: 0.393113\n",
            "epoch 24; iter: 0; batch classifier loss: 0.367691\n",
            "epoch 24; iter: 200; batch classifier loss: 0.350232\n",
            "epoch 25; iter: 0; batch classifier loss: 0.475182\n",
            "epoch 25; iter: 200; batch classifier loss: 0.442192\n",
            "epoch 26; iter: 0; batch classifier loss: 0.335640\n",
            "epoch 26; iter: 200; batch classifier loss: 0.395529\n",
            "epoch 27; iter: 0; batch classifier loss: 0.405261\n",
            "epoch 27; iter: 200; batch classifier loss: 0.472795\n",
            "epoch 28; iter: 0; batch classifier loss: 0.341698\n",
            "epoch 28; iter: 200; batch classifier loss: 0.479227\n",
            "epoch 29; iter: 0; batch classifier loss: 0.378072\n",
            "epoch 29; iter: 200; batch classifier loss: 0.443864\n",
            "epoch 30; iter: 0; batch classifier loss: 0.385885\n",
            "epoch 30; iter: 200; batch classifier loss: 0.406959\n",
            "epoch 31; iter: 0; batch classifier loss: 0.418967\n",
            "epoch 31; iter: 200; batch classifier loss: 0.321333\n",
            "epoch 32; iter: 0; batch classifier loss: 0.360212\n",
            "epoch 32; iter: 200; batch classifier loss: 0.489030\n",
            "epoch 33; iter: 0; batch classifier loss: 0.426324\n",
            "epoch 33; iter: 200; batch classifier loss: 0.366632\n",
            "epoch 34; iter: 0; batch classifier loss: 0.380734\n",
            "epoch 34; iter: 200; batch classifier loss: 0.485873\n",
            "epoch 35; iter: 0; batch classifier loss: 0.414935\n",
            "epoch 35; iter: 200; batch classifier loss: 0.435402\n",
            "epoch 36; iter: 0; batch classifier loss: 0.376004\n",
            "epoch 36; iter: 200; batch classifier loss: 0.387985\n",
            "epoch 37; iter: 0; batch classifier loss: 0.447528\n",
            "epoch 37; iter: 200; batch classifier loss: 0.473734\n",
            "epoch 38; iter: 0; batch classifier loss: 0.473819\n",
            "epoch 38; iter: 200; batch classifier loss: 0.375507\n",
            "epoch 39; iter: 0; batch classifier loss: 0.448406\n",
            "epoch 39; iter: 200; batch classifier loss: 0.403681\n",
            "epoch 40; iter: 0; batch classifier loss: 0.486044\n",
            "epoch 40; iter: 200; batch classifier loss: 0.364028\n",
            "epoch 41; iter: 0; batch classifier loss: 0.429116\n",
            "epoch 41; iter: 200; batch classifier loss: 0.388599\n",
            "epoch 42; iter: 0; batch classifier loss: 0.506224\n",
            "epoch 42; iter: 200; batch classifier loss: 0.541577\n",
            "epoch 43; iter: 0; batch classifier loss: 0.404320\n",
            "epoch 43; iter: 200; batch classifier loss: 0.352823\n",
            "epoch 44; iter: 0; batch classifier loss: 0.409626\n",
            "epoch 44; iter: 200; batch classifier loss: 0.450753\n",
            "epoch 45; iter: 0; batch classifier loss: 0.401347\n",
            "epoch 45; iter: 200; batch classifier loss: 0.412962\n",
            "epoch 46; iter: 0; batch classifier loss: 0.355081\n",
            "epoch 46; iter: 200; batch classifier loss: 0.307814\n",
            "epoch 47; iter: 0; batch classifier loss: 0.445651\n",
            "epoch 47; iter: 200; batch classifier loss: 0.488432\n",
            "epoch 48; iter: 0; batch classifier loss: 0.384840\n",
            "epoch 48; iter: 200; batch classifier loss: 0.547850\n",
            "epoch 49; iter: 0; batch classifier loss: 0.437686\n",
            "epoch 49; iter: 200; batch classifier loss: 0.402836\n"
          ]
        },
        {
          "output_type": "execute_result",
          "data": {
            "text/plain": [
              "<aif360.algorithms.inprocessing.adversarial_debiasing.AdversarialDebiasing at 0x793e0b19a830>"
            ]
          },
          "metadata": {},
          "execution_count": 16
        }
      ],
      "source": [
        "plain_model.fit(dataset_orig_train)"
      ]
    },
    {
      "cell_type": "code",
      "execution_count": 17,
      "metadata": {
        "id": "Z2TR8K9tLd3c"
      },
      "outputs": [],
      "source": [
        "# Apply the plain model to test data\n",
        "dataset_nodebiasing_train = plain_model.predict(dataset_orig_train)\n",
        "dataset_nodebiasing_test = plain_model.predict(dataset_orig_test)"
      ]
    },
    {
      "cell_type": "code",
      "execution_count": 18,
      "metadata": {
        "id": "Q2Y0-nyiLd3d",
        "outputId": "fceb7bb2-2620-4b43-dc4a-255f3ff90a96",
        "colab": {
          "base_uri": "https://localhost:8080/",
          "height": 232
        }
      },
      "outputs": [
        {
          "output_type": "display_data",
          "data": {
            "text/plain": [
              "<IPython.core.display.Markdown object>"
            ],
            "text/markdown": "#### Plain model - without debiasing - dataset metrics"
          },
          "metadata": {}
        },
        {
          "output_type": "stream",
          "name": "stdout",
          "text": [
            "Train set: Difference in mean outcomes between unprivileged and privileged groups = -0.207929\n",
            "Test set: Difference in mean outcomes between unprivileged and privileged groups = -0.212740\n"
          ]
        },
        {
          "output_type": "display_data",
          "data": {
            "text/plain": [
              "<IPython.core.display.Markdown object>"
            ],
            "text/markdown": "#### Plain model - without debiasing - classification metrics"
          },
          "metadata": {}
        },
        {
          "output_type": "stream",
          "name": "stdout",
          "text": [
            "Test set: Classification accuracy = 0.803726\n",
            "Test set: Balanced classification accuracy = 0.659056\n",
            "Test set: Disparate impact = 0.000000\n",
            "Test set: Equal opportunity difference = -0.460873\n",
            "Test set: Average odds difference = -0.284938\n",
            "Test set: Theil_index = 0.176748\n"
          ]
        }
      ],
      "source": [
        "# Metrics for the dataset from plain model (without debiasing)\n",
        "display(Markdown(\"#### Plain model - without debiasing - dataset metrics\"))\n",
        "metric_dataset_nodebiasing_train = BinaryLabelDatasetMetric(dataset_nodebiasing_train,\n",
        "                                             unprivileged_groups=unprivileged_groups,\n",
        "                                             privileged_groups=privileged_groups)\n",
        "\n",
        "print(\"Train set: Difference in mean outcomes between unprivileged and privileged groups = %f\" % metric_dataset_nodebiasing_train.mean_difference())\n",
        "\n",
        "metric_dataset_nodebiasing_test = BinaryLabelDatasetMetric(dataset_nodebiasing_test,\n",
        "                                             unprivileged_groups=unprivileged_groups,\n",
        "                                             privileged_groups=privileged_groups)\n",
        "\n",
        "print(\"Test set: Difference in mean outcomes between unprivileged and privileged groups = %f\" % metric_dataset_nodebiasing_test.mean_difference())\n",
        "\n",
        "display(Markdown(\"#### Plain model - without debiasing - classification metrics\"))\n",
        "classified_metric_nodebiasing_test = ClassificationMetric(dataset_orig_test,\n",
        "                                                 dataset_nodebiasing_test,\n",
        "                                                 unprivileged_groups=unprivileged_groups,\n",
        "                                                 privileged_groups=privileged_groups)\n",
        "print(\"Test set: Classification accuracy = %f\" % classified_metric_nodebiasing_test.accuracy())\n",
        "TPR = classified_metric_nodebiasing_test.true_positive_rate()\n",
        "TNR = classified_metric_nodebiasing_test.true_negative_rate()\n",
        "bal_acc_nodebiasing_test = 0.5*(TPR+TNR)\n",
        "print(\"Test set: Balanced classification accuracy = %f\" % bal_acc_nodebiasing_test)\n",
        "print(\"Test set: Disparate impact = %f\" % classified_metric_nodebiasing_test.disparate_impact())\n",
        "print(\"Test set: Equal opportunity difference = %f\" % classified_metric_nodebiasing_test.equal_opportunity_difference())\n",
        "print(\"Test set: Average odds difference = %f\" % classified_metric_nodebiasing_test.average_odds_difference())\n",
        "print(\"Test set: Theil_index = %f\" % classified_metric_nodebiasing_test.theil_index())"
      ]
    },
    {
      "cell_type": "markdown",
      "metadata": {
        "id": "Vfmg6nQALd3d"
      },
      "source": [
        "### Apply in-processing algorithm based on adversarial learning"
      ]
    },
    {
      "cell_type": "code",
      "execution_count": 19,
      "metadata": {
        "id": "VcCXmtFPLd3d"
      },
      "outputs": [],
      "source": [
        "sess.close()\n",
        "tf.reset_default_graph()\n",
        "sess = tf.Session()"
      ]
    },
    {
      "cell_type": "code",
      "execution_count": 20,
      "metadata": {
        "id": "0obICyOXLd3d"
      },
      "outputs": [],
      "source": [
        "# Learn parameters with debias set to True\n",
        "debiased_model = AdversarialDebiasing(privileged_groups = privileged_groups,\n",
        "                          unprivileged_groups = unprivileged_groups,\n",
        "                          scope_name='debiased_classifier',\n",
        "                          debias=True,\n",
        "                          sess=sess)"
      ]
    },
    {
      "cell_type": "code",
      "execution_count": 21,
      "metadata": {
        "scrolled": true,
        "id": "HNnPHXEOLd3d",
        "outputId": "fe5330fd-52f0-4928-fae7-3f455e94646b",
        "colab": {
          "base_uri": "https://localhost:8080/"
        }
      },
      "outputs": [
        {
          "output_type": "stream",
          "name": "stdout",
          "text": [
            "epoch 0; iter: 0; batch classifier loss: 0.748581; batch adversarial loss: 0.661708\n",
            "epoch 0; iter: 200; batch classifier loss: 0.518333; batch adversarial loss: 0.668401\n",
            "epoch 1; iter: 0; batch classifier loss: 0.413743; batch adversarial loss: 0.637986\n",
            "epoch 1; iter: 200; batch classifier loss: 0.429247; batch adversarial loss: 0.648797\n",
            "epoch 2; iter: 0; batch classifier loss: 0.476008; batch adversarial loss: 0.643821\n",
            "epoch 2; iter: 200; batch classifier loss: 0.416968; batch adversarial loss: 0.663498\n",
            "epoch 3; iter: 0; batch classifier loss: 0.461186; batch adversarial loss: 0.637949\n",
            "epoch 3; iter: 200; batch classifier loss: 0.498391; batch adversarial loss: 0.678092\n",
            "epoch 4; iter: 0; batch classifier loss: 0.454445; batch adversarial loss: 0.608626\n",
            "epoch 4; iter: 200; batch classifier loss: 0.433467; batch adversarial loss: 0.633072\n",
            "epoch 5; iter: 0; batch classifier loss: 0.439382; batch adversarial loss: 0.650255\n",
            "epoch 5; iter: 200; batch classifier loss: 0.405386; batch adversarial loss: 0.611438\n",
            "epoch 6; iter: 0; batch classifier loss: 0.427492; batch adversarial loss: 0.615864\n",
            "epoch 6; iter: 200; batch classifier loss: 0.367376; batch adversarial loss: 0.578727\n",
            "epoch 7; iter: 0; batch classifier loss: 0.464075; batch adversarial loss: 0.549069\n",
            "epoch 7; iter: 200; batch classifier loss: 0.486635; batch adversarial loss: 0.590186\n",
            "epoch 8; iter: 0; batch classifier loss: 0.380799; batch adversarial loss: 0.614713\n",
            "epoch 8; iter: 200; batch classifier loss: 0.398785; batch adversarial loss: 0.629381\n",
            "epoch 9; iter: 0; batch classifier loss: 0.452757; batch adversarial loss: 0.578395\n",
            "epoch 9; iter: 200; batch classifier loss: 0.456527; batch adversarial loss: 0.572166\n",
            "epoch 10; iter: 0; batch classifier loss: 0.335398; batch adversarial loss: 0.649442\n",
            "epoch 10; iter: 200; batch classifier loss: 0.405420; batch adversarial loss: 0.573136\n",
            "epoch 11; iter: 0; batch classifier loss: 0.390531; batch adversarial loss: 0.603030\n",
            "epoch 11; iter: 200; batch classifier loss: 0.513902; batch adversarial loss: 0.619471\n",
            "epoch 12; iter: 0; batch classifier loss: 0.459508; batch adversarial loss: 0.620780\n",
            "epoch 12; iter: 200; batch classifier loss: 0.472423; batch adversarial loss: 0.578603\n",
            "epoch 13; iter: 0; batch classifier loss: 0.419460; batch adversarial loss: 0.641028\n",
            "epoch 13; iter: 200; batch classifier loss: 0.417024; batch adversarial loss: 0.646734\n",
            "epoch 14; iter: 0; batch classifier loss: 0.395042; batch adversarial loss: 0.635386\n",
            "epoch 14; iter: 200; batch classifier loss: 0.464189; batch adversarial loss: 0.644754\n",
            "epoch 15; iter: 0; batch classifier loss: 0.449712; batch adversarial loss: 0.591804\n",
            "epoch 15; iter: 200; batch classifier loss: 0.549006; batch adversarial loss: 0.589532\n",
            "epoch 16; iter: 0; batch classifier loss: 0.450705; batch adversarial loss: 0.541225\n",
            "epoch 16; iter: 200; batch classifier loss: 0.311980; batch adversarial loss: 0.611707\n",
            "epoch 17; iter: 0; batch classifier loss: 0.450163; batch adversarial loss: 0.618676\n",
            "epoch 17; iter: 200; batch classifier loss: 0.423934; batch adversarial loss: 0.645488\n",
            "epoch 18; iter: 0; batch classifier loss: 0.434521; batch adversarial loss: 0.649561\n",
            "epoch 18; iter: 200; batch classifier loss: 0.415689; batch adversarial loss: 0.625832\n",
            "epoch 19; iter: 0; batch classifier loss: 0.435837; batch adversarial loss: 0.555378\n",
            "epoch 19; iter: 200; batch classifier loss: 0.423796; batch adversarial loss: 0.678457\n",
            "epoch 20; iter: 0; batch classifier loss: 0.434582; batch adversarial loss: 0.597966\n",
            "epoch 20; iter: 200; batch classifier loss: 0.427532; batch adversarial loss: 0.607679\n",
            "epoch 21; iter: 0; batch classifier loss: 0.414705; batch adversarial loss: 0.597652\n",
            "epoch 21; iter: 200; batch classifier loss: 0.460041; batch adversarial loss: 0.599983\n",
            "epoch 22; iter: 0; batch classifier loss: 0.391360; batch adversarial loss: 0.571985\n",
            "epoch 22; iter: 200; batch classifier loss: 0.427588; batch adversarial loss: 0.611924\n",
            "epoch 23; iter: 0; batch classifier loss: 0.381992; batch adversarial loss: 0.652664\n",
            "epoch 23; iter: 200; batch classifier loss: 0.425764; batch adversarial loss: 0.652431\n",
            "epoch 24; iter: 0; batch classifier loss: 0.483214; batch adversarial loss: 0.572111\n",
            "epoch 24; iter: 200; batch classifier loss: 0.522832; batch adversarial loss: 0.606414\n",
            "epoch 25; iter: 0; batch classifier loss: 0.398628; batch adversarial loss: 0.628439\n",
            "epoch 25; iter: 200; batch classifier loss: 0.336593; batch adversarial loss: 0.596135\n",
            "epoch 26; iter: 0; batch classifier loss: 0.384927; batch adversarial loss: 0.675089\n",
            "epoch 26; iter: 200; batch classifier loss: 0.432711; batch adversarial loss: 0.581465\n",
            "epoch 27; iter: 0; batch classifier loss: 0.433564; batch adversarial loss: 0.577043\n",
            "epoch 27; iter: 200; batch classifier loss: 0.394502; batch adversarial loss: 0.559963\n",
            "epoch 28; iter: 0; batch classifier loss: 0.437084; batch adversarial loss: 0.615582\n",
            "epoch 28; iter: 200; batch classifier loss: 0.515209; batch adversarial loss: 0.596983\n",
            "epoch 29; iter: 0; batch classifier loss: 0.482369; batch adversarial loss: 0.581316\n",
            "epoch 29; iter: 200; batch classifier loss: 0.480847; batch adversarial loss: 0.576463\n",
            "epoch 30; iter: 0; batch classifier loss: 0.544866; batch adversarial loss: 0.609319\n",
            "epoch 30; iter: 200; batch classifier loss: 0.437109; batch adversarial loss: 0.632596\n",
            "epoch 31; iter: 0; batch classifier loss: 0.426185; batch adversarial loss: 0.695225\n",
            "epoch 31; iter: 200; batch classifier loss: 0.442543; batch adversarial loss: 0.666699\n",
            "epoch 32; iter: 0; batch classifier loss: 0.396146; batch adversarial loss: 0.644801\n",
            "epoch 32; iter: 200; batch classifier loss: 0.367654; batch adversarial loss: 0.621312\n",
            "epoch 33; iter: 0; batch classifier loss: 0.420609; batch adversarial loss: 0.541778\n",
            "epoch 33; iter: 200; batch classifier loss: 0.354492; batch adversarial loss: 0.618888\n",
            "epoch 34; iter: 0; batch classifier loss: 0.375563; batch adversarial loss: 0.557383\n",
            "epoch 34; iter: 200; batch classifier loss: 0.350886; batch adversarial loss: 0.579827\n",
            "epoch 35; iter: 0; batch classifier loss: 0.455138; batch adversarial loss: 0.552170\n",
            "epoch 35; iter: 200; batch classifier loss: 0.432128; batch adversarial loss: 0.584344\n",
            "epoch 36; iter: 0; batch classifier loss: 0.474894; batch adversarial loss: 0.608876\n",
            "epoch 36; iter: 200; batch classifier loss: 0.378990; batch adversarial loss: 0.618611\n",
            "epoch 37; iter: 0; batch classifier loss: 0.408004; batch adversarial loss: 0.582543\n",
            "epoch 37; iter: 200; batch classifier loss: 0.404322; batch adversarial loss: 0.594950\n",
            "epoch 38; iter: 0; batch classifier loss: 0.500280; batch adversarial loss: 0.578536\n",
            "epoch 38; iter: 200; batch classifier loss: 0.449926; batch adversarial loss: 0.586927\n",
            "epoch 39; iter: 0; batch classifier loss: 0.496399; batch adversarial loss: 0.610208\n",
            "epoch 39; iter: 200; batch classifier loss: 0.441932; batch adversarial loss: 0.528599\n",
            "epoch 40; iter: 0; batch classifier loss: 0.461697; batch adversarial loss: 0.586405\n",
            "epoch 40; iter: 200; batch classifier loss: 0.420429; batch adversarial loss: 0.573637\n",
            "epoch 41; iter: 0; batch classifier loss: 0.428276; batch adversarial loss: 0.578181\n",
            "epoch 41; iter: 200; batch classifier loss: 0.528846; batch adversarial loss: 0.576763\n",
            "epoch 42; iter: 0; batch classifier loss: 0.436734; batch adversarial loss: 0.588906\n",
            "epoch 42; iter: 200; batch classifier loss: 0.479057; batch adversarial loss: 0.527988\n",
            "epoch 43; iter: 0; batch classifier loss: 0.395101; batch adversarial loss: 0.585800\n",
            "epoch 43; iter: 200; batch classifier loss: 0.400290; batch adversarial loss: 0.626977\n",
            "epoch 44; iter: 0; batch classifier loss: 0.485583; batch adversarial loss: 0.659236\n",
            "epoch 44; iter: 200; batch classifier loss: 0.402844; batch adversarial loss: 0.546034\n",
            "epoch 45; iter: 0; batch classifier loss: 0.461929; batch adversarial loss: 0.572072\n",
            "epoch 45; iter: 200; batch classifier loss: 0.346112; batch adversarial loss: 0.598460\n",
            "epoch 46; iter: 0; batch classifier loss: 0.335812; batch adversarial loss: 0.609056\n",
            "epoch 46; iter: 200; batch classifier loss: 0.428079; batch adversarial loss: 0.629480\n",
            "epoch 47; iter: 0; batch classifier loss: 0.439951; batch adversarial loss: 0.582558\n",
            "epoch 47; iter: 200; batch classifier loss: 0.440428; batch adversarial loss: 0.564149\n",
            "epoch 48; iter: 0; batch classifier loss: 0.457891; batch adversarial loss: 0.558610\n",
            "epoch 48; iter: 200; batch classifier loss: 0.486449; batch adversarial loss: 0.598755\n",
            "epoch 49; iter: 0; batch classifier loss: 0.377345; batch adversarial loss: 0.573095\n",
            "epoch 49; iter: 200; batch classifier loss: 0.446863; batch adversarial loss: 0.578753\n"
          ]
        },
        {
          "output_type": "execute_result",
          "data": {
            "text/plain": [
              "<aif360.algorithms.inprocessing.adversarial_debiasing.AdversarialDebiasing at 0x793e0b199180>"
            ]
          },
          "metadata": {},
          "execution_count": 21
        }
      ],
      "source": [
        "debiased_model.fit(dataset_orig_train)"
      ]
    },
    {
      "cell_type": "code",
      "execution_count": 22,
      "metadata": {
        "id": "7MY9OQzELd3d"
      },
      "outputs": [],
      "source": [
        "# Apply the plain model to test data\n",
        "dataset_debiasing_train = debiased_model.predict(dataset_orig_train)\n",
        "dataset_debiasing_test = debiased_model.predict(dataset_orig_test)"
      ]
    },
    {
      "cell_type": "code",
      "execution_count": 23,
      "metadata": {
        "id": "ejY5S5aTLd3d",
        "outputId": "2ba6d48b-5afb-4f16-876f-082c6aa7066d",
        "colab": {
          "base_uri": "https://localhost:8080/",
          "height": 447
        }
      },
      "outputs": [
        {
          "output_type": "display_data",
          "data": {
            "text/plain": [
              "<IPython.core.display.Markdown object>"
            ],
            "text/markdown": "#### Plain model - without debiasing - dataset metrics"
          },
          "metadata": {}
        },
        {
          "output_type": "stream",
          "name": "stdout",
          "text": [
            "Train set: Difference in mean outcomes between unprivileged and privileged groups = -0.207929\n",
            "Test set: Difference in mean outcomes between unprivileged and privileged groups = -0.212740\n"
          ]
        },
        {
          "output_type": "display_data",
          "data": {
            "text/plain": [
              "<IPython.core.display.Markdown object>"
            ],
            "text/markdown": "#### Model - with debiasing - dataset metrics"
          },
          "metadata": {}
        },
        {
          "output_type": "stream",
          "name": "stdout",
          "text": [
            "Train set: Difference in mean outcomes between unprivileged and privileged groups = -0.086742\n",
            "Test set: Difference in mean outcomes between unprivileged and privileged groups = -0.087589\n"
          ]
        },
        {
          "output_type": "display_data",
          "data": {
            "text/plain": [
              "<IPython.core.display.Markdown object>"
            ],
            "text/markdown": "#### Plain model - without debiasing - classification metrics"
          },
          "metadata": {}
        },
        {
          "output_type": "stream",
          "name": "stdout",
          "text": [
            "Test set: Classification accuracy = 0.803726\n",
            "Test set: Balanced classification accuracy = 0.659056\n",
            "Test set: Disparate impact = 0.000000\n",
            "Test set: Equal opportunity difference = -0.460873\n",
            "Test set: Average odds difference = -0.284938\n",
            "Test set: Theil_index = 0.176748\n"
          ]
        },
        {
          "output_type": "display_data",
          "data": {
            "text/plain": [
              "<IPython.core.display.Markdown object>"
            ],
            "text/markdown": "#### Model - with debiasing - classification metrics"
          },
          "metadata": {}
        },
        {
          "output_type": "stream",
          "name": "stdout",
          "text": [
            "Test set: Classification accuracy = 0.795605\n",
            "Test set: Balanced classification accuracy = 0.675668\n",
            "Test set: Disparate impact = 0.581453\n",
            "Test set: Equal opportunity difference = -0.044364\n",
            "Test set: Average odds difference = -0.033521\n",
            "Test set: Theil_index = 0.166363\n"
          ]
        }
      ],
      "source": [
        "# Metrics for the dataset from plain model (without debiasing)\n",
        "display(Markdown(\"#### Plain model - without debiasing - dataset metrics\"))\n",
        "print(\"Train set: Difference in mean outcomes between unprivileged and privileged groups = %f\" % metric_dataset_nodebiasing_train.mean_difference())\n",
        "print(\"Test set: Difference in mean outcomes between unprivileged and privileged groups = %f\" % metric_dataset_nodebiasing_test.mean_difference())\n",
        "\n",
        "# Metrics for the dataset from model with debiasing\n",
        "display(Markdown(\"#### Model - with debiasing - dataset metrics\"))\n",
        "metric_dataset_debiasing_train = BinaryLabelDatasetMetric(dataset_debiasing_train,\n",
        "                                             unprivileged_groups=unprivileged_groups,\n",
        "                                             privileged_groups=privileged_groups)\n",
        "\n",
        "print(\"Train set: Difference in mean outcomes between unprivileged and privileged groups = %f\" % metric_dataset_debiasing_train.mean_difference())\n",
        "\n",
        "metric_dataset_debiasing_test = BinaryLabelDatasetMetric(dataset_debiasing_test,\n",
        "                                             unprivileged_groups=unprivileged_groups,\n",
        "                                             privileged_groups=privileged_groups)\n",
        "\n",
        "print(\"Test set: Difference in mean outcomes between unprivileged and privileged groups = %f\" % metric_dataset_debiasing_test.mean_difference())\n",
        "\n",
        "\n",
        "\n",
        "display(Markdown(\"#### Plain model - without debiasing - classification metrics\"))\n",
        "print(\"Test set: Classification accuracy = %f\" % classified_metric_nodebiasing_test.accuracy())\n",
        "TPR = classified_metric_nodebiasing_test.true_positive_rate()\n",
        "TNR = classified_metric_nodebiasing_test.true_negative_rate()\n",
        "bal_acc_nodebiasing_test = 0.5*(TPR+TNR)\n",
        "print(\"Test set: Balanced classification accuracy = %f\" % bal_acc_nodebiasing_test)\n",
        "print(\"Test set: Disparate impact = %f\" % classified_metric_nodebiasing_test.disparate_impact())\n",
        "print(\"Test set: Equal opportunity difference = %f\" % classified_metric_nodebiasing_test.equal_opportunity_difference())\n",
        "print(\"Test set: Average odds difference = %f\" % classified_metric_nodebiasing_test.average_odds_difference())\n",
        "print(\"Test set: Theil_index = %f\" % classified_metric_nodebiasing_test.theil_index())\n",
        "\n",
        "\n",
        "\n",
        "display(Markdown(\"#### Model - with debiasing - classification metrics\"))\n",
        "classified_metric_debiasing_test = ClassificationMetric(dataset_orig_test,\n",
        "                                                 dataset_debiasing_test,\n",
        "                                                 unprivileged_groups=unprivileged_groups,\n",
        "                                                 privileged_groups=privileged_groups)\n",
        "print(\"Test set: Classification accuracy = %f\" % classified_metric_debiasing_test.accuracy())\n",
        "TPR = classified_metric_debiasing_test.true_positive_rate()\n",
        "TNR = classified_metric_debiasing_test.true_negative_rate()\n",
        "bal_acc_debiasing_test = 0.5*(TPR+TNR)\n",
        "print(\"Test set: Balanced classification accuracy = %f\" % bal_acc_debiasing_test)\n",
        "print(\"Test set: Disparate impact = %f\" % classified_metric_debiasing_test.disparate_impact())\n",
        "print(\"Test set: Equal opportunity difference = %f\" % classified_metric_debiasing_test.equal_opportunity_difference())\n",
        "print(\"Test set: Average odds difference = %f\" % classified_metric_debiasing_test.average_odds_difference())\n",
        "print(\"Test set: Theil_index = %f\" % classified_metric_debiasing_test.theil_index())"
      ]
    },
    {
      "cell_type": "markdown",
      "metadata": {
        "id": "u9yPLBjJLd3e"
      },
      "source": [
        "\n",
        "    References:\n",
        "    [1] B. H. Zhang, B. Lemoine, and M. Mitchell, \"Mitigating UnwantedBiases with Adversarial Learning,\"\n",
        "    AAAI/ACM Conference on Artificial Intelligence, Ethics, and Society, 2018."
      ]
    },
    {
      "cell_type": "code",
      "execution_count": 23,
      "metadata": {
        "id": "gocjJflnLd3e"
      },
      "outputs": [],
      "source": []
    }
  ],
  "metadata": {
    "kernelspec": {
      "display_name": "Python 2",
      "language": "python",
      "name": "python2"
    },
    "language_info": {
      "codemirror_mode": {
        "name": "ipython",
        "version": 2
      },
      "file_extension": ".py",
      "mimetype": "text/x-python",
      "name": "python",
      "nbconvert_exporter": "python",
      "pygments_lexer": "ipython2",
      "version": "2.7.15"
    },
    "colab": {
      "provenance": []
    }
  },
  "nbformat": 4,
  "nbformat_minor": 0
}