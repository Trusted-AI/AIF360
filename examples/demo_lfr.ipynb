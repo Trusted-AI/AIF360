{
 "cells": [
  {
   "cell_type": "markdown",
   "metadata": {},
   "source": [
    "#### This notebook demonstrates the use of the learning fair representations algorithm for bias mitigation\n",
    "Learning fair representations [1] is a pre-processing technique that finds a latent representation which encodes the data well but obfuscates information about protected attributes. We will see how to use this algorithm for learning representations that encourage individual fairness and apply them on the Adult dataset.\n",
    "\n",
    "References:\n",
    "\n",
    "[1] R. Zemel, Y. Wu, K. Swersky, T. Pitassi, and C. Dwork,  \"Learning Fair Representations.\" \n",
    "International Conference on Machine Learning, 2013."
   ]
  },
  {
   "cell_type": "code",
   "execution_count": 1,
   "metadata": {},
   "outputs": [],
   "source": [
    "%matplotlib inline\n",
    "# Load all necessary packages\n",
    "import sys\n",
    "sys.path.append(\"../\")\n",
    "from aif360.datasets import BinaryLabelDataset\n",
    "from aif360.datasets import AdultDataset\n",
    "from aif360.metrics import BinaryLabelDatasetMetric\n",
    "from aif360.metrics import ClassificationMetric\n",
    "from aif360.metrics.utils import compute_boolean_conditioning_vector\n",
    "\n",
    "from aif360.algorithms.preprocessing.optim_preproc_helpers.data_preproc_functions import load_preproc_data_adult\n",
    "from aif360.algorithms.preprocessing.lfr import LFR\n",
    "\n",
    "from sklearn.linear_model import LogisticRegression\n",
    "from sklearn.preprocessing import StandardScaler\n",
    "from sklearn.metrics import accuracy_score\n",
    "from sklearn.metrics import classification_report\n",
    "\n",
    "from IPython.display import Markdown, display\n",
    "import matplotlib.pyplot as plt\n",
    "import numpy as np\n",
    "\n",
    "from aif360.utils.common_utils import compute_metrics"
   ]
  },
  {
   "cell_type": "markdown",
   "metadata": {},
   "source": [
    "#### Load dataset and set options"
   ]
  },
  {
   "cell_type": "code",
   "execution_count": 2,
   "metadata": {},
   "outputs": [
    {
     "name": "stdout",
     "output_type": "stream",
     "text": [
      "Index(['race', 'sex', 'Income Binary', 'Age (decade)=10', 'Age (decade)=20',\n",
      "       'Age (decade)=30', 'Age (decade)=40', 'Age (decade)=50',\n",
      "       'Age (decade)=60', 'Age (decade)=>=70', 'Education Years=6',\n",
      "       'Education Years=7', 'Education Years=8', 'Education Years=9',\n",
      "       'Education Years=10', 'Education Years=11', 'Education Years=12',\n",
      "       'Education Years=<6', 'Education Years=>12'],\n",
      "      dtype='object')\n"
     ]
    }
   ],
   "source": [
    "# Get the dataset and split into train and test\n",
    "dataset_orig = load_preproc_data_adult()\n",
    "dataset_orig_train, dataset_orig_test = dataset_orig.split([0.7], shuffle=True)"
   ]
  },
  {
   "cell_type": "markdown",
   "metadata": {},
   "source": [
    "#### Clean up training data"
   ]
  },
  {
   "cell_type": "code",
   "execution_count": 3,
   "metadata": {},
   "outputs": [
    {
     "data": {
      "text/markdown": [
       "#### Training Dataset shape"
      ],
      "text/plain": [
       "<IPython.core.display.Markdown object>"
      ]
     },
     "metadata": {},
     "output_type": "display_data"
    },
    {
     "name": "stdout",
     "output_type": "stream",
     "text": [
      "(34189, 18)\n"
     ]
    },
    {
     "data": {
      "text/markdown": [
       "#### Favorable and unfavorable labels"
      ],
      "text/plain": [
       "<IPython.core.display.Markdown object>"
      ]
     },
     "metadata": {},
     "output_type": "display_data"
    },
    {
     "name": "stdout",
     "output_type": "stream",
     "text": [
      "1.0 0.0\n"
     ]
    },
    {
     "data": {
      "text/markdown": [
       "#### Protected attribute names"
      ],
      "text/plain": [
       "<IPython.core.display.Markdown object>"
      ]
     },
     "metadata": {},
     "output_type": "display_data"
    },
    {
     "name": "stdout",
     "output_type": "stream",
     "text": [
      "['sex', 'race']\n"
     ]
    },
    {
     "data": {
      "text/markdown": [
       "#### Privileged and unprivileged protected attribute values"
      ],
      "text/plain": [
       "<IPython.core.display.Markdown object>"
      ]
     },
     "metadata": {},
     "output_type": "display_data"
    },
    {
     "name": "stdout",
     "output_type": "stream",
     "text": [
      "[array([1.]), array([1.])] [array([0.]), array([0.])]\n"
     ]
    },
    {
     "data": {
      "text/markdown": [
       "#### Dataset feature names"
      ],
      "text/plain": [
       "<IPython.core.display.Markdown object>"
      ]
     },
     "metadata": {},
     "output_type": "display_data"
    },
    {
     "name": "stdout",
     "output_type": "stream",
     "text": [
      "['race', 'sex', 'Age (decade)=10', 'Age (decade)=20', 'Age (decade)=30', 'Age (decade)=40', 'Age (decade)=50', 'Age (decade)=60', 'Age (decade)=>=70', 'Education Years=6', 'Education Years=7', 'Education Years=8', 'Education Years=9', 'Education Years=10', 'Education Years=11', 'Education Years=12', 'Education Years=<6', 'Education Years=>12']\n"
     ]
    }
   ],
   "source": [
    "# print out some labels, names, etc.\n",
    "display(Markdown(\"#### Training Dataset shape\"))\n",
    "print(dataset_orig_train.features.shape)\n",
    "display(Markdown(\"#### Favorable and unfavorable labels\"))\n",
    "print(dataset_orig_train.favorable_label, dataset_orig_train.unfavorable_label)\n",
    "display(Markdown(\"#### Protected attribute names\"))\n",
    "print(dataset_orig_train.protected_attribute_names)\n",
    "display(Markdown(\"#### Privileged and unprivileged protected attribute values\"))\n",
    "print(dataset_orig_train.privileged_protected_attributes, \n",
    "      dataset_orig_train.unprivileged_protected_attributes)\n",
    "display(Markdown(\"#### Dataset feature names\"))\n",
    "print(dataset_orig_train.feature_names)"
   ]
  },
  {
   "cell_type": "markdown",
   "metadata": {},
   "source": [
    "#### Metric for original training data"
   ]
  },
  {
   "cell_type": "code",
   "execution_count": 4,
   "metadata": {},
   "outputs": [
    {
     "data": {
      "text/markdown": [
       "#### Original training dataset"
      ],
      "text/plain": [
       "<IPython.core.display.Markdown object>"
      ]
     },
     "metadata": {},
     "output_type": "display_data"
    },
    {
     "name": "stdout",
     "output_type": "stream",
     "text": [
      "Difference in mean outcomes between unprivileged and privileged groups = -0.196006\n"
     ]
    },
    {
     "data": {
      "text/markdown": [
       "#### Original test dataset"
      ],
      "text/plain": [
       "<IPython.core.display.Markdown object>"
      ]
     },
     "metadata": {},
     "output_type": "display_data"
    },
    {
     "name": "stdout",
     "output_type": "stream",
     "text": [
      "Difference in mean outcomes between unprivileged and privileged groups = -0.191040\n"
     ]
    }
   ],
   "source": [
    "# Metric for the original dataset\n",
    "privileged_groups = [{'sex': 1.0}]\n",
    "unprivileged_groups = [{'sex': 0.0}]\n",
    "\n",
    "metric_orig_train = BinaryLabelDatasetMetric(dataset_orig_train, \n",
    "                                             unprivileged_groups=unprivileged_groups,\n",
    "                                             privileged_groups=privileged_groups)\n",
    "display(Markdown(\"#### Original training dataset\"))\n",
    "print(\"Difference in mean outcomes between unprivileged and privileged groups = %f\" % metric_orig_train.mean_difference())\n",
    "metric_orig_test = BinaryLabelDatasetMetric(dataset_orig_test, \n",
    "                                             unprivileged_groups=unprivileged_groups,\n",
    "                                             privileged_groups=privileged_groups)\n",
    "display(Markdown(\"#### Original test dataset\"))\n",
    "print(\"Difference in mean outcomes between unprivileged and privileged groups = %f\" % metric_orig_test.mean_difference())\n"
   ]
  },
  {
   "cell_type": "markdown",
   "metadata": {},
   "source": [
    "#### Train with and transform the original training data"
   ]
  },
  {
   "cell_type": "code",
   "execution_count": 5,
   "metadata": {},
   "outputs": [],
   "source": [
    "scale_orig = StandardScaler()\n",
    "dataset_orig_train.features = scale_orig.fit_transform(dataset_orig_train.features)\n",
    "dataset_orig_test.features = scale_orig.transform(dataset_orig_test.features)"
   ]
  },
  {
   "cell_type": "code",
   "execution_count": 6,
   "metadata": {},
   "outputs": [
    {
     "name": "stdout",
     "output_type": "stream",
     "text": [
      "step: 0, loss: 0.8769651010115602, L_x: 2.501165440260686,  L_y: 0.6042843339872844,  L_z: 0.011282111499103655\n",
      "RUNNING THE L-BFGS-B CODE\n",
      "\n",
      "           * * *\n",
      "\n",
      "Machine precision = 2.220D-16\n",
      " N =          190     M =           10\n",
      "\n",
      "At X0         0 variables are exactly at the bounds\n",
      "\n",
      "At iterate    0    f=  8.76965D-01    |proj g|=  9.37454D-02\n",
      "step: 250, loss: 0.8421303072647419, L_x: 2.4991003813618438,  L_y: 0.570471743860846,  L_z: 0.010874262633855745\n",
      "\n",
      "At iterate    1    f=  8.42130D-01    |proj g|=  6.56577D-02\n",
      "step: 500, loss: 0.8140843321593632, L_x: 2.489376131339222,  L_y: 0.5464029508248738,  L_z: 0.00937188410028353\n",
      "\n",
      "At iterate    2    f=  8.14084D-01    |proj g|=  1.71942D-02\n",
      "step: 750, loss: 0.809877966916539, L_x: 2.48429423223053,  L_y: 0.5443194512948466,  L_z: 0.008564546199319695\n",
      "\n",
      "At iterate    3    f=  8.09878D-01    |proj g|=  1.48380D-02\n",
      "\n",
      "At iterate    4    f=  7.89668D-01    |proj g|=  2.77969D-02\n",
      "step: 1000, loss: 0.7816878365666869, L_x: 2.4051450660833384,  L_y: 0.5297738247660724,  L_z: 0.005699752596140336\n",
      "\n",
      "At iterate    5    f=  7.81688D-01    |proj g|=  2.68028D-02\n",
      "step: 1250, loss: 0.7636815507325887, L_x: 2.226258313110827,  L_y: 0.5040682243886362,  L_z: 0.018493747516434917\n",
      "\n",
      "At iterate    6    f=  7.63682D-01    |proj g|=  3.92099D-02\n",
      "step: 1500, loss: 0.7395652334395862, L_x: 2.1252093940455286,  L_y: 0.4861946064682779,  L_z: 0.020424843783377767\n",
      "\n",
      "At iterate    7    f=  7.39565D-01    |proj g|=  1.58781D-02\n",
      "\n",
      "At iterate    8    f=  7.07838D-01    |proj g|=  1.98048D-02\n",
      "step: 1750, loss: 0.6850689050933034, L_x: 1.8554587137046874,  L_y: 0.45855794920882925,  L_z: 0.02048254225700273\n",
      "\n",
      "At iterate    9    f=  6.85069D-01    |proj g|=  1.50376D-02\n",
      "step: 2000, loss: 0.7097930865856821, L_x: 1.7197907748010177,  L_y: 0.4649019003159382,  L_z: 0.03645605439482103\n",
      "step: 2250, loss: 0.673699471235951, L_x: 1.7871285765670426,  L_y: 0.45413411899506395,  L_z: 0.020426247292091342\n",
      "\n",
      "At iterate   10    f=  6.73699D-01    |proj g|=  1.48687D-02\n",
      "\n",
      "At iterate   11    f=  6.67590D-01    |proj g|=  2.13653D-02\n",
      "step: 2500, loss: 0.658328318917645, L_x: 1.7506859748292292,  L_y: 0.4493348738607206,  L_z: 0.016962423787000754\n",
      "\n",
      "At iterate   12    f=  6.58328D-01    |proj g|=  8.72113D-03\n",
      "step: 2750, loss: 0.6528653086452396, L_x: 1.7228669927766895,  L_y: 0.45297830886066887,  L_z: 0.013800150253450877\n",
      "\n",
      "At iterate   13    f=  6.52865D-01    |proj g|=  4.03862D-02\n",
      "step: 3000, loss: 0.6487865349859954, L_x: 1.719937579457329,  L_y: 0.449506911185811,  L_z: 0.013642932927225742\n",
      "\n",
      "At iterate   14    f=  6.48787D-01    |proj g|=  1.83679D-02\n",
      "\n",
      "At iterate   15    f=  6.44956D-01    |proj g|=  2.14839D-02\n",
      "step: 3250, loss: 0.6396117168558062, L_x: 1.6955587460462902,  L_y: 0.4487020892843715,  L_z: 0.010676876483402816\n",
      "\n",
      "At iterate   16    f=  6.39612D-01    |proj g|=  1.86371D-02\n",
      "step: 3500, loss: 0.6366363084992336, L_x: 1.674542511970476,  L_y: 0.4478228014958625,  L_z: 0.010679627903161749\n",
      "\n",
      "At iterate   17    f=  6.36636D-01    |proj g|=  1.37356D-02\n",
      "step: 3750, loss: 0.6344499323296408, L_x: 1.671076912516674,  L_y: 0.44680517799804625,  L_z: 0.010268531539963533\n",
      "\n",
      "At iterate   18    f=  6.34450D-01    |proj g|=  1.46267D-02\n",
      "step: 4000, loss: 0.6314014576641804, L_x: 1.6632359395061527,  L_y: 0.4462914996389072,  L_z: 0.009393182037328954\n",
      "\n",
      "At iterate   19    f=  6.31401D-01    |proj g|=  1.22740D-02\n",
      "step: 4250, loss: 0.6233738339722661, L_x: 1.6244150564739632,  L_y: 0.4455102747635995,  L_z: 0.007711026780635108\n",
      "\n",
      "At iterate   20    f=  6.23374D-01    |proj g|=  7.01019D-03\n",
      "step: 4500, loss: 0.6226187958506086, L_x: 1.5917229597770286,  L_y: 0.4466198407434289,  L_z: 0.008413329564738394\n",
      "\n",
      "At iterate   21    f=  6.22619D-01    |proj g|=  1.21995D-02\n",
      "step: 4750, loss: 0.6180742807530495, L_x: 1.5833628114197735,  L_y: 0.44729927572157513,  L_z: 0.006219361944748508\n",
      "\n",
      "At iterate   22    f=  6.18074D-01    |proj g|=  1.30887D-02\n",
      "step: 5000, loss: 0.6161556433888479, L_x: 1.574698766158615,  L_y: 0.4491360789941086,  L_z: 0.0047748438894389\n",
      "\n",
      "At iterate   23    f=  6.16156D-01    |proj g|=  1.16923D-02\n",
      "\n",
      "           * * *\n",
      "\n",
      "Tit   = total number of iterations\n",
      "Tnf   = total number of function evaluations\n",
      "Tnint = total number of segments explored during Cauchy searches\n",
      "Skip  = number of BFGS updates skipped\n",
      "Nact  = number of active bounds at final generalized Cauchy point\n",
      "Projg = norm of the final projected gradient\n",
      "F     = final function value\n",
      "\n",
      "           * * *\n",
      "\n",
      "   N    Tit     Tnf  Tnint  Skip  Nact     Projg        F\n",
      "  190     23     27     29     0     6   1.169D-02   6.162D-01\n",
      "  F =  0.61615563434890830     \n",
      "\n",
      "STOP: TOTAL NO. of f AND g EVALUATIONS EXCEEDS LIMIT        \n"
     ]
    }
   ],
   "source": [
    "# Input recontruction quality - Ax\n",
    "# Fairness constraint - Az\n",
    "# Output prediction error - Ay\n",
    "\n",
    "privileged_groups = [{'sex': 1}]\n",
    "unprivileged_groups = [{'sex': 0}]\n",
    "    \n",
    "TR = LFR(unprivileged_groups=unprivileged_groups,\n",
    "         privileged_groups=privileged_groups,\n",
    "         k=10, Ax=0.1, Ay=1.0, Az=2.0,\n",
    "         verbose=1\n",
    "        )\n",
    "TR = TR.fit(dataset_orig_train, maxiter=5000, maxfun=5000)"
   ]
  },
  {
   "cell_type": "code",
   "execution_count": 7,
   "metadata": {},
   "outputs": [],
   "source": [
    "# Transform training data and align features\n",
    "dataset_transf_train = TR.transform(dataset_orig_train)\n",
    "dataset_transf_test = TR.transform(dataset_orig_test)"
   ]
  },
  {
   "cell_type": "code",
   "execution_count": 8,
   "metadata": {},
   "outputs": [
    {
     "name": "stdout",
     "output_type": "stream",
     "text": [
      "              precision    recall  f1-score   support\n",
      "\n",
      "         0.0       0.81      0.94      0.87     11156\n",
      "         1.0       0.60      0.28      0.38      3497\n",
      "\n",
      "    accuracy                           0.78     14653\n",
      "   macro avg       0.71      0.61      0.63     14653\n",
      "weighted avg       0.76      0.78      0.75     14653\n",
      "\n"
     ]
    }
   ],
   "source": [
    "print(classification_report(dataset_orig_test.labels, dataset_transf_test.labels))"
   ]
  },
  {
   "cell_type": "code",
   "execution_count": 9,
   "metadata": {},
   "outputs": [
    {
     "data": {
      "text/markdown": [
       "#### Transformed training dataset"
      ],
      "text/plain": [
       "<IPython.core.display.Markdown object>"
      ]
     },
     "metadata": {},
     "output_type": "display_data"
    },
    {
     "name": "stdout",
     "output_type": "stream",
     "text": [
      "Difference in mean outcomes between unprivileged and privileged groups = -0.039928\n"
     ]
    },
    {
     "data": {
      "text/markdown": [
       "#### Transformed test dataset"
      ],
      "text/plain": [
       "<IPython.core.display.Markdown object>"
      ]
     },
     "metadata": {},
     "output_type": "display_data"
    },
    {
     "name": "stdout",
     "output_type": "stream",
     "text": [
      "Difference in mean outcomes between unprivileged and privileged groups = -0.039546\n"
     ]
    }
   ],
   "source": [
    "metric_transf_train = BinaryLabelDatasetMetric(dataset_transf_train, \n",
    "                                             unprivileged_groups=unprivileged_groups,\n",
    "                                             privileged_groups=privileged_groups)\n",
    "display(Markdown(\"#### Transformed training dataset\"))\n",
    "print(\"Difference in mean outcomes between unprivileged and privileged groups = %f\" % metric_transf_train.mean_difference())\n",
    "metric_transf_test = BinaryLabelDatasetMetric(dataset_transf_test, \n",
    "                                             unprivileged_groups=unprivileged_groups,\n",
    "                                             privileged_groups=privileged_groups)\n",
    "display(Markdown(\"#### Transformed test dataset\"))\n",
    "print(\"Difference in mean outcomes between unprivileged and privileged groups = %f\" % metric_transf_test.mean_difference())\n"
   ]
  },
  {
   "cell_type": "code",
   "execution_count": 11,
   "metadata": {},
   "outputs": [
    {
     "data": {
      "text/markdown": [
       "#### Predictions from transformed testing data"
      ],
      "text/plain": [
       "<IPython.core.display.Markdown object>"
      ]
     },
     "metadata": {},
     "output_type": "display_data"
    },
    {
     "name": "stderr",
     "output_type": "stream",
     "text": [
      "divide by zero encountered in double_scalars\n",
      "invalid value encountered in double_scalars\n"
     ]
    }
   ],
   "source": [
    "display(Markdown(\"#### Predictions from transformed testing data\"))\n",
    "bal_acc_arr_transf = []\n",
    "disp_imp_arr_transf = []\n",
    "\n",
    "class_thresh_arr = np.linspace(0.01, 0.99, 100)\n",
    "\n",
    "dataset_transf_test_new = dataset_orig_test.copy(deepcopy=True)\n",
    "dataset_transf_test_new.scores = dataset_transf_test.scores\n",
    "\n",
    "\n",
    "for thresh in class_thresh_arr:\n",
    "    \n",
    "    fav_inds = dataset_transf_test_new.scores > thresh\n",
    "    dataset_transf_test_new.labels[fav_inds] = 1.0\n",
    "    dataset_transf_test_new.labels[~fav_inds] = 0.0\n",
    "    \n",
    "    metric_test_aft = compute_metrics(dataset_orig_test, dataset_transf_test_new, \n",
    "                                      unprivileged_groups, privileged_groups,\n",
    "                                      disp = False)\n",
    "\n",
    "    bal_acc_arr_transf.append(metric_test_aft[\"Balanced accuracy\"])\n",
    "    disp_imp_arr_transf.append(metric_test_aft[\"Disparate impact\"])"
   ]
  },
  {
   "cell_type": "code",
   "execution_count": 12,
   "metadata": {},
   "outputs": [
    {
     "data": {
      "image/png": "[encoded data removed]",
      "text/plain": [
       "<Figure size 720x504 with 2 Axes>"
      ]
     },
     "metadata": {
      "needs_background": "light"
     },
     "output_type": "display_data"
    }
   ],
   "source": [
    "fig, ax1 = plt.subplots(figsize=(10,7))\n",
    "ax1.plot(class_thresh_arr, bal_acc_arr_transf)\n",
    "ax1.set_xlabel('Classification Thresholds', fontsize=16, fontweight='bold')\n",
    "ax1.set_ylabel('Balanced Accuracy', color='b', fontsize=16, fontweight='bold')\n",
    "ax1.xaxis.set_tick_params(labelsize=14)\n",
    "ax1.yaxis.set_tick_params(labelsize=14)\n",
    "\n",
    "\n",
    "ax2 = ax1.twinx()\n",
    "ax2.plot(class_thresh_arr, np.abs(1.0-np.array(disp_imp_arr_transf)), color='r')\n",
    "ax2.set_ylabel('abs(1-disparate impact)', color='r', fontsize=16, fontweight='bold')\n",
    "ax2.yaxis.set_tick_params(labelsize=14)\n",
    "ax2.grid(True)"
   ]
  },
  {
   "cell_type": "markdown",
   "metadata": {},
   "source": [
    "abs(1-disparate impact) must be small (close to 0) for classifier predictions to be fair."
   ]
  },
  {
   "cell_type": "code",
   "execution_count": 13,
   "metadata": {},
   "outputs": [
    {
     "data": {
      "text/markdown": [
       "#### Individual fairness metrics"
      ],
      "text/plain": [
       "<IPython.core.display.Markdown object>"
      ]
     },
     "metadata": {},
     "output_type": "display_data"
    },
    {
     "name": "stdout",
     "output_type": "stream",
     "text": [
      "Consistency of labels in transformed training dataset= 1.000000\n",
      "Consistency of labels in original training dataset= 0.711767\n",
      "Consistency of labels in transformed test dataset= 1.000000\n",
      "Consistency of labels in original test dataset= 0.729038\n"
     ]
    }
   ],
   "source": [
    "display(Markdown(\"#### Individual fairness metrics\"))\n",
    "print(\"Consistency of labels in transformed training dataset= %f\" %metric_transf_train.consistency())\n",
    "print(\"Consistency of labels in original training dataset= %f\" %metric_orig_train.consistency())\n",
    "print(\"Consistency of labels in transformed test dataset= %f\" %metric_transf_test.consistency())\n",
    "print(\"Consistency of labels in original test dataset= %f\" %metric_orig_test.consistency())"
   ]
  },
  {
   "cell_type": "code",
   "execution_count": 14,
   "metadata": {},
   "outputs": [],
   "source": [
    "def check_algorithm_success():\n",
    "    \"\"\"Transformed dataset consistency should be greater than original dataset.\"\"\"\n",
    "    assert metric_transf_test.consistency() > metric_orig_test.consistency(), \"Transformed dataset consistency should be greater than original dataset.\"\n",
    "\n",
    "check_algorithm_success()    "
   ]
  },
  {
   "cell_type": "code",
   "execution_count": null,
   "metadata": {},
   "outputs": [],
   "source": []
  }
 ],
 "metadata": {
  "kernelspec": {
   "display_name": "Python 3 (ipykernel)",
   "language": "python",
   "name": "python3"
  },
  "language_info": {
   "codemirror_mode": {
    "name": "ipython",
    "version": 3
   },
   "file_extension": ".py",
   "mimetype": "text/x-python",
   "name": "python",
   "nbconvert_exporter": "python",
   "pygments_lexer": "ipython3",
   "version": "3.7.13"
  }
 },
 "nbformat": 4,
 "nbformat_minor": 4
}
