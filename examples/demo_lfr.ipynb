{
  "cells": [
    {
      "cell_type": "markdown",
      "metadata": {
      },
      "source": [
        "[![Open In Colab](https://colab.research.google.com/assets/colab-badge.svg)](https://colab.research.google.com/github/Trusted-AI/AIF360/blob/master/examples/demo_lfr.ipynb)\n"
      ]
    },
    {
      "cell_type": "markdown",
      "metadata": {
        "id": "pSHxIvnmJMlH"
      },
      "source": [
        "#### This notebook demonstrates the use of the learning fair representations algorithm for bias mitigation\n",
        "Learning fair representations [1] is a pre-processing technique that finds a latent representation which encodes the data well but obfuscates information about protected attributes. We will see how to use this algorithm for learning representations that encourage individual fairness and apply them on the Adult dataset.\n",
        "\n",
        "References:\n",
        "\n",
        "[1] R. Zemel, Y. Wu, K. Swersky, T. Pitassi, and C. Dwork,  \"Learning Fair Representations.\"\n",
        "International Conference on Machine Learning, 2013."
      ]
    },
    {
      "cell_type": "code",
      "source": [
        "!pip install aif360"
      ],
      "metadata": {
        "id": "rbjwJ83JKYOE",
        "outputId": "9bda5dcb-ad33-4763-c650-fa8dc87391a7",
        "colab": {
          "base_uri": "https://localhost:8080/"
        }
      },
      "execution_count": 23,
      "outputs": [
        {
          "output_type": "stream",
          "name": "stdout",
          "text": [
            "Requirement already satisfied: aif360 in /usr/local/lib/python3.10/dist-packages (0.5.0)\n",
            "Requirement already satisfied: numpy>=1.16 in /usr/local/lib/python3.10/dist-packages (from aif360) (1.23.5)\n",
            "Requirement already satisfied: scipy>=1.2.0 in /usr/local/lib/python3.10/dist-packages (from aif360) (1.11.2)\n",
            "Requirement already satisfied: pandas>=0.24.0 in /usr/local/lib/python3.10/dist-packages (from aif360) (1.5.3)\n",
            "Requirement already satisfied: scikit-learn>=1.0 in /usr/local/lib/python3.10/dist-packages (from aif360) (1.2.2)\n",
            "Requirement already satisfied: matplotlib in /usr/local/lib/python3.10/dist-packages (from aif360) (3.7.1)\n",
            "Requirement already satisfied: python-dateutil>=2.8.1 in /usr/local/lib/python3.10/dist-packages (from pandas>=0.24.0->aif360) (2.8.2)\n",
            "Requirement already satisfied: pytz>=2020.1 in /usr/local/lib/python3.10/dist-packages (from pandas>=0.24.0->aif360) (2023.3.post1)\n",
            "Requirement already satisfied: joblib>=1.1.1 in /usr/local/lib/python3.10/dist-packages (from scikit-learn>=1.0->aif360) (1.3.2)\n",
            "Requirement already satisfied: threadpoolctl>=2.0.0 in /usr/local/lib/python3.10/dist-packages (from scikit-learn>=1.0->aif360) (3.2.0)\n",
            "Requirement already satisfied: contourpy>=1.0.1 in /usr/local/lib/python3.10/dist-packages (from matplotlib->aif360) (1.1.0)\n",
            "Requirement already satisfied: cycler>=0.10 in /usr/local/lib/python3.10/dist-packages (from matplotlib->aif360) (0.11.0)\n",
            "Requirement already satisfied: fonttools>=4.22.0 in /usr/local/lib/python3.10/dist-packages (from matplotlib->aif360) (4.42.1)\n",
            "Requirement already satisfied: kiwisolver>=1.0.1 in /usr/local/lib/python3.10/dist-packages (from matplotlib->aif360) (1.4.5)\n",
            "Requirement already satisfied: packaging>=20.0 in /usr/local/lib/python3.10/dist-packages (from matplotlib->aif360) (23.1)\n",
            "Requirement already satisfied: pillow>=6.2.0 in /usr/local/lib/python3.10/dist-packages (from matplotlib->aif360) (9.4.0)\n",
            "Requirement already satisfied: pyparsing>=2.3.1 in /usr/local/lib/python3.10/dist-packages (from matplotlib->aif360) (3.1.1)\n",
            "Requirement already satisfied: six>=1.5 in /usr/local/lib/python3.10/dist-packages (from python-dateutil>=2.8.1->pandas>=0.24.0->aif360) (1.16.0)\n"
          ]
        }
      ]
    },
    {
      "cell_type": "code",
      "execution_count": 24,
      "metadata": {
        "id": "WRq6KHByJMlH"
      },
      "outputs": [],
      "source": [
        "%matplotlib inline\n",
        "# Load all necessary packages\n",
        "import sys\n",
        "sys.path.append(\"../\")\n",
        "from aif360.datasets import BinaryLabelDataset\n",
        "from aif360.datasets import AdultDataset\n",
        "from aif360.metrics import BinaryLabelDatasetMetric\n",
        "from aif360.metrics import ClassificationMetric\n",
        "from aif360.metrics.utils import compute_boolean_conditioning_vector\n",
        "\n",
        "from aif360.algorithms.preprocessing.optim_preproc_helpers.data_preproc_functions import load_preproc_data_adult\n",
        "from aif360.algorithms.preprocessing.lfr import LFR\n",
        "\n",
        "from sklearn.linear_model import LogisticRegression\n",
        "from sklearn.preprocessing import StandardScaler\n",
        "from sklearn.metrics import accuracy_score\n",
        "from sklearn.metrics import classification_report\n",
        "\n",
        "from IPython.display import Markdown, display\n",
        "import matplotlib.pyplot as plt\n",
        "import numpy as np"
      ]
    },
    {
      "cell_type": "code",
      "source": [
        "# Metrics function\n",
        "from collections import OrderedDict\n",
        "\n",
        "def compute_metrics(dataset_true, dataset_pred,\n",
        "                    unprivileged_groups, privileged_groups,\n",
        "                    disp = True):\n",
        "    \"\"\" Compute the key metrics \"\"\"\n",
        "    classified_metric_pred = ClassificationMetric(dataset_true,\n",
        "                                                 dataset_pred,\n",
        "                                                 unprivileged_groups=unprivileged_groups,\n",
        "                                                 privileged_groups=privileged_groups)\n",
        "    metrics = OrderedDict()\n",
        "    metrics[\"Balanced accuracy\"] = 0.5*(classified_metric_pred.true_positive_rate()+\n",
        "                                             classified_metric_pred.true_negative_rate())\n",
        "    metrics[\"Statistical parity difference\"] = classified_metric_pred.statistical_parity_difference()\n",
        "    metrics[\"Disparate impact\"] = classified_metric_pred.disparate_impact()\n",
        "    metrics[\"Average odds difference\"] = classified_metric_pred.average_odds_difference()\n",
        "    metrics[\"Equal opportunity difference\"] = classified_metric_pred.equal_opportunity_difference()\n",
        "    metrics[\"Theil index\"] = classified_metric_pred.theil_index()\n",
        "\n",
        "    if disp:\n",
        "        for k in metrics:\n",
        "            print(\"%s = %.4f\" % (k, metrics[k]))\n",
        "\n",
        "    return metrics"
      ],
      "metadata": {
        "id": "HHWJ4YOUKepn"
      },
      "execution_count": 25,
      "outputs": []
    },
    {
      "cell_type": "code",
      "source": [
        "import os\n",
        "import urllib\n",
        "import aif360\n",
        "\n",
        "# Obtain the location where it is installed\n",
        "LIB_PATH = aif360.__file__.rsplit(\"aif360\", 1)[0]\n",
        "\n",
        "# check if the data got download properly\n",
        "def check_data_or_download(destn, files, data_source_directory):\n",
        "    check = all(item in os.listdir(destn) for item in files)\n",
        "    if check:\n",
        "        print(\"Adult dataset is available for us\")\n",
        "    else:\n",
        "        print(\"Some files are missing. Downloading now.\")\n",
        "        for data_file in files:\n",
        "            _ = urllib.request.urlretrieve(data_source_directory + data_file,\n",
        "                                           os.path.join(destn, data_file))\n",
        "\n",
        "# Download adult dataset\n",
        "data_source_directory = \"https://archive.ics.uci.edu/ml/machine-learning-databases/adult/\"\n",
        "destn = os.path.join(LIB_PATH, \"aif360\", \"data\", \"raw\", \"adult\")\n",
        "files = [\"adult.data\", \"adult.test\", \"adult.names\"]\n",
        "\n",
        "check_data_or_download(destn, files, data_source_directory)"
      ],
      "metadata": {
        "id": "4sOyTMUcKiL8",
        "outputId": "9d748ad2-0eab-476f-8fdf-4bf6d68cfa2a",
        "colab": {
          "base_uri": "https://localhost:8080/"
        }
      },
      "execution_count": 26,
      "outputs": [
        {
          "output_type": "stream",
          "name": "stdout",
          "text": [
            "Adult dataset is available for us\n"
          ]
        }
      ]
    },
    {
      "cell_type": "markdown",
      "metadata": {
        "id": "UHNPTDPEJMlI"
      },
      "source": [
        "#### Load dataset and set options"
      ]
    },
    {
      "cell_type": "code",
      "execution_count": 27,
      "metadata": {
        "id": "xuQMtYfZJMlI"
      },
      "outputs": [],
      "source": [
        "# Get the dataset and split into train and test\n",
        "dataset_orig = load_preproc_data_adult()\n",
        "dataset_orig_train, dataset_orig_test = dataset_orig.split([0.7], shuffle=True)"
      ]
    },
    {
      "cell_type": "markdown",
      "metadata": {
        "id": "z08sQ76nJMlI"
      },
      "source": [
        "#### Clean up training data"
      ]
    },
    {
      "cell_type": "code",
      "execution_count": 28,
      "metadata": {
        "colab": {
          "base_uri": "https://localhost:8080/",
          "height": 326
        },
        "id": "lQr_A68uJMlI",
        "outputId": "accac0d7-7459-4867-ee62-7cc4ba965865"
      },
      "outputs": [
        {
          "output_type": "display_data",
          "data": {
            "text/plain": [
              "<IPython.core.display.Markdown object>"
            ],
            "text/markdown": "#### Training Dataset shape"
          },
          "metadata": {}
        },
        {
          "output_type": "stream",
          "name": "stdout",
          "text": [
            "(34189, 18)\n"
          ]
        },
        {
          "output_type": "display_data",
          "data": {
            "text/plain": [
              "<IPython.core.display.Markdown object>"
            ],
            "text/markdown": "#### Favorable and unfavorable labels"
          },
          "metadata": {}
        },
        {
          "output_type": "stream",
          "name": "stdout",
          "text": [
            "1.0 0.0\n"
          ]
        },
        {
          "output_type": "display_data",
          "data": {
            "text/plain": [
              "<IPython.core.display.Markdown object>"
            ],
            "text/markdown": "#### Protected attribute names"
          },
          "metadata": {}
        },
        {
          "output_type": "stream",
          "name": "stdout",
          "text": [
            "['sex', 'race']\n"
          ]
        },
        {
          "output_type": "display_data",
          "data": {
            "text/plain": [
              "<IPython.core.display.Markdown object>"
            ],
            "text/markdown": "#### Privileged and unprivileged protected attribute values"
          },
          "metadata": {}
        },
        {
          "output_type": "stream",
          "name": "stdout",
          "text": [
            "[array([1.]), array([1.])] [array([0.]), array([0.])]\n"
          ]
        },
        {
          "output_type": "display_data",
          "data": {
            "text/plain": [
              "<IPython.core.display.Markdown object>"
            ],
            "text/markdown": "#### Dataset feature names"
          },
          "metadata": {}
        },
        {
          "output_type": "stream",
          "name": "stdout",
          "text": [
            "['race', 'sex', 'Age (decade)=10', 'Age (decade)=20', 'Age (decade)=30', 'Age (decade)=40', 'Age (decade)=50', 'Age (decade)=60', 'Age (decade)=>=70', 'Education Years=6', 'Education Years=7', 'Education Years=8', 'Education Years=9', 'Education Years=10', 'Education Years=11', 'Education Years=12', 'Education Years=<6', 'Education Years=>12']\n"
          ]
        }
      ],
      "source": [
        "# print out some labels, names, etc.\n",
        "display(Markdown(\"#### Training Dataset shape\"))\n",
        "print(dataset_orig_train.features.shape)\n",
        "display(Markdown(\"#### Favorable and unfavorable labels\"))\n",
        "print(dataset_orig_train.favorable_label, dataset_orig_train.unfavorable_label)\n",
        "display(Markdown(\"#### Protected attribute names\"))\n",
        "print(dataset_orig_train.protected_attribute_names)\n",
        "display(Markdown(\"#### Privileged and unprivileged protected attribute values\"))\n",
        "print(dataset_orig_train.privileged_protected_attributes,\n",
        "      dataset_orig_train.unprivileged_protected_attributes)\n",
        "display(Markdown(\"#### Dataset feature names\"))\n",
        "print(dataset_orig_train.feature_names)"
      ]
    },
    {
      "cell_type": "markdown",
      "metadata": {
        "id": "iPxd_eWiJMlJ"
      },
      "source": [
        "#### Metric for original training data"
      ]
    },
    {
      "cell_type": "code",
      "execution_count": 29,
      "metadata": {
        "colab": {
          "base_uri": "https://localhost:8080/",
          "height": 133
        },
        "id": "el-vJ8mRJMlJ",
        "outputId": "0ff531f0-b57d-4c10-f359-aee5f0342dd5"
      },
      "outputs": [
        {
          "output_type": "display_data",
          "data": {
            "text/plain": [
              "<IPython.core.display.Markdown object>"
            ],
            "text/markdown": "#### Original training dataset"
          },
          "metadata": {}
        },
        {
          "output_type": "stream",
          "name": "stdout",
          "text": [
            "Difference in mean outcomes between unprivileged and privileged groups = -0.190862\n"
          ]
        },
        {
          "output_type": "display_data",
          "data": {
            "text/plain": [
              "<IPython.core.display.Markdown object>"
            ],
            "text/markdown": "#### Original test dataset"
          },
          "metadata": {}
        },
        {
          "output_type": "stream",
          "name": "stdout",
          "text": [
            "Difference in mean outcomes between unprivileged and privileged groups = -0.203005\n"
          ]
        }
      ],
      "source": [
        "# Metric for the original dataset\n",
        "privileged_groups = [{'sex': 1.0}]\n",
        "unprivileged_groups = [{'sex': 0.0}]\n",
        "\n",
        "metric_orig_train = BinaryLabelDatasetMetric(dataset_orig_train,\n",
        "                                             unprivileged_groups=unprivileged_groups,\n",
        "                                             privileged_groups=privileged_groups)\n",
        "display(Markdown(\"#### Original training dataset\"))\n",
        "print(\"Difference in mean outcomes between unprivileged and privileged groups = %f\" % metric_orig_train.mean_difference())\n",
        "metric_orig_test = BinaryLabelDatasetMetric(dataset_orig_test,\n",
        "                                             unprivileged_groups=unprivileged_groups,\n",
        "                                             privileged_groups=privileged_groups)\n",
        "display(Markdown(\"#### Original test dataset\"))\n",
        "print(\"Difference in mean outcomes between unprivileged and privileged groups = %f\" % metric_orig_test.mean_difference())\n"
      ]
    },
    {
      "cell_type": "markdown",
      "metadata": {
        "id": "AdAihiWeJMlJ"
      },
      "source": [
        "#### Train with and transform the original training data"
      ]
    },
    {
      "cell_type": "code",
      "execution_count": 30,
      "metadata": {
        "id": "6tTVHlcxJMlJ"
      },
      "outputs": [],
      "source": [
        "scale_orig = StandardScaler()\n",
        "dataset_orig_train.features = scale_orig.fit_transform(dataset_orig_train.features)\n",
        "dataset_orig_test.features = scale_orig.transform(dataset_orig_test.features)"
      ]
    },
    {
      "cell_type": "code",
      "execution_count": 31,
      "metadata": {
        "colab": {
          "base_uri": "https://localhost:8080/"
        },
        "id": "8xJrpt6-JMlJ",
        "outputId": "1d083ae3-e916-49ff-f9cb-76b5b646bcd8"
      },
      "outputs": [
        {
          "output_type": "stream",
          "name": "stdout",
          "text": [
            "step: 0, loss: 0.8962825492184127, L_x: 2.5714339164470723,  L_y: 0.620754999471439,  L_z: 0.009192079051133246\n",
            "step: 250, loss: 0.8480866071999373, L_x: 2.5685650112390204,  L_y: 0.5738304854931037,  L_z: 0.00869981029146582\n",
            "step: 500, loss: 0.812413520785976, L_x: 2.5559943149989834,  L_y: 0.5435687192438329,  L_z: 0.006622685021122375\n",
            "step: 750, loss: 0.8068090347952472, L_x: 2.5485767929820033,  L_y: 0.540429587756876,  L_z: 0.005760883870085431\n",
            "step: 1000, loss: 0.7697788013653353, L_x: 2.4301546591529353,  L_y: 0.5097902430672545,  L_z: 0.008486546191393631\n",
            "step: 1250, loss: 0.7488916175381501, L_x: 2.319045335882304,  L_y: 0.4899897467945588,  L_z: 0.013498668577680478\n",
            "step: 1500, loss: 0.7292348172986615, L_x: 2.180622957659463,  L_y: 0.47458348428043823,  L_z: 0.018294518626138442\n",
            "step: 1750, loss: 0.6732503970062083, L_x: 1.8022392527041993,  L_y: 0.4457481793715224,  L_z: 0.023639146182132982\n",
            "step: 2000, loss: 0.6551453071296062, L_x: 1.7369379199412447,  L_y: 0.44547346510191477,  L_z: 0.017989025016783476\n",
            "step: 2250, loss: 0.6515877755909989, L_x: 1.729866141423706,  L_y: 0.44581105955253014,  L_z: 0.016395050948049064\n",
            "step: 2500, loss: 0.642317154312171, L_x: 1.7102692235915193,  L_y: 0.4432637228700424,  L_z: 0.01401325454148834\n",
            "step: 2750, loss: 0.6408832286060121, L_x: 1.692429573709087,  L_y: 0.4444873357962501,  L_z: 0.013576467719426591\n",
            "step: 3000, loss: 0.6393149303295383, L_x: 1.6822172127482986,  L_y: 0.44394928162497177,  L_z: 0.013571963714868329\n",
            "step: 3250, loss: 0.6364420807364426, L_x: 1.681350214471769,  L_y: 0.44296918237940514,  L_z: 0.01266893845493026\n",
            "step: 3500, loss: 0.6376425149993452, L_x: 1.6755513830998394,  L_y: 0.4442870991810238,  L_z: 0.012900138754168733\n",
            "step: 3750, loss: 0.6355475233628246, L_x: 1.6793840623156662,  L_y: 0.44315958605303135,  L_z: 0.012224765539113263\n",
            "step: 4000, loss: 0.6432096538091823, L_x: 1.6669782170813154,  L_y: 0.4465226779831983,  L_z: 0.014994577058926217\n",
            "step: 4250, loss: 0.6354345060723801, L_x: 1.6787641405659137,  L_y: 0.4432519397770607,  L_z: 0.012153076119363986\n",
            "step: 4500, loss: 0.6379459397795982, L_x: 1.6680215898648223,  L_y: 0.4444484635599675,  L_z: 0.013347658616574281\n",
            "step: 4750, loss: 0.6354297833077306, L_x: 1.6771828167354075,  L_y: 0.4433828100247568,  L_z: 0.012164345804716512\n",
            "step: 5000, loss: 0.6344102371530024, L_x: 1.667823494652633,  L_y: 0.44373122467523646,  L_z: 0.011948331506251294\n"
          ]
        }
      ],
      "source": [
        "# Input recontruction quality - Ax\n",
        "# Fairness constraint - Az\n",
        "# Output prediction error - Ay\n",
        "\n",
        "privileged_groups = [{'sex': 1}]\n",
        "unprivileged_groups = [{'sex': 0}]\n",
        "\n",
        "TR = LFR(unprivileged_groups=unprivileged_groups,\n",
        "         privileged_groups=privileged_groups,\n",
        "         k=10, Ax=0.1, Ay=1.0, Az=2.0,\n",
        "         verbose=1\n",
        "        )\n",
        "TR = TR.fit(dataset_orig_train, maxiter=5000, maxfun=5000)"
      ]
    },
    {
      "cell_type": "code",
      "execution_count": 32,
      "metadata": {
        "id": "pzDX-rNMJMlJ"
      },
      "outputs": [],
      "source": [
        "# Transform training data and align features\n",
        "dataset_transf_train = TR.transform(dataset_orig_train)\n",
        "dataset_transf_test = TR.transform(dataset_orig_test)"
      ]
    },
    {
      "cell_type": "code",
      "execution_count": 33,
      "metadata": {
        "colab": {
          "base_uri": "https://localhost:8080/"
        },
        "id": "dlc9Q8C1JMlJ",
        "outputId": "92a8abce-1ad4-4961-e8e8-3d0ae80f70ac"
      },
      "outputs": [
        {
          "output_type": "stream",
          "name": "stdout",
          "text": [
            "              precision    recall  f1-score   support\n",
            "\n",
            "         0.0       0.81      0.95      0.87     11142\n",
            "         1.0       0.62      0.28      0.39      3511\n",
            "\n",
            "    accuracy                           0.79     14653\n",
            "   macro avg       0.72      0.61      0.63     14653\n",
            "weighted avg       0.76      0.79      0.76     14653\n",
            "\n"
          ]
        }
      ],
      "source": [
        "print(classification_report(dataset_orig_test.labels, dataset_transf_test.labels))"
      ]
    },
    {
      "cell_type": "code",
      "execution_count": 34,
      "metadata": {
        "colab": {
          "base_uri": "https://localhost:8080/",
          "height": 133
        },
        "id": "kqDqTcxQJMlJ",
        "outputId": "7a7e747b-eca0-43d9-84f5-8beeee2588e2"
      },
      "outputs": [
        {
          "output_type": "display_data",
          "data": {
            "text/plain": [
              "<IPython.core.display.Markdown object>"
            ],
            "text/markdown": "#### Transformed training dataset"
          },
          "metadata": {}
        },
        {
          "output_type": "stream",
          "name": "stdout",
          "text": [
            "Difference in mean outcomes between unprivileged and privileged groups = -0.062725\n"
          ]
        },
        {
          "output_type": "display_data",
          "data": {
            "text/plain": [
              "<IPython.core.display.Markdown object>"
            ],
            "text/markdown": "#### Transformed test dataset"
          },
          "metadata": {}
        },
        {
          "output_type": "stream",
          "name": "stdout",
          "text": [
            "Difference in mean outcomes between unprivileged and privileged groups = -0.057548\n"
          ]
        }
      ],
      "source": [
        "metric_transf_train = BinaryLabelDatasetMetric(dataset_transf_train,\n",
        "                                             unprivileged_groups=unprivileged_groups,\n",
        "                                             privileged_groups=privileged_groups)\n",
        "display(Markdown(\"#### Transformed training dataset\"))\n",
        "print(\"Difference in mean outcomes between unprivileged and privileged groups = %f\" % metric_transf_train.mean_difference())\n",
        "metric_transf_test = BinaryLabelDatasetMetric(dataset_transf_test,\n",
        "                                             unprivileged_groups=unprivileged_groups,\n",
        "                                             privileged_groups=privileged_groups)\n",
        "display(Markdown(\"#### Transformed test dataset\"))\n",
        "print(\"Difference in mean outcomes between unprivileged and privileged groups = %f\" % metric_transf_test.mean_difference())\n"
      ]
    },
    {
      "cell_type": "code",
      "execution_count": 36,
      "metadata": {
        "colab": {
          "base_uri": "https://localhost:8080/",
          "height": 93
        },
        "id": "cRKBWIcFJMlJ",
        "outputId": "4218db37-dfe5-420a-ca08-2913294736d1"
      },
      "outputs": [
        {
          "output_type": "display_data",
          "data": {
            "text/plain": [
              "<IPython.core.display.Markdown object>"
            ],
            "text/markdown": "#### Predictions from transformed testing data"
          },
          "metadata": {}
        },
        {
          "output_type": "stream",
          "name": "stderr",
          "text": [
            "/usr/local/lib/python3.10/dist-packages/aif360/metrics/dataset_metric.py:82: RuntimeWarning: invalid value encountered in double_scalars\n",
            "  return metric_fun(privileged=False) / metric_fun(privileged=True)\n"
          ]
        }
      ],
      "source": [
        "display(Markdown(\"#### Predictions from transformed testing data\"))\n",
        "bal_acc_arr_transf = []\n",
        "disp_imp_arr_transf = []\n",
        "\n",
        "class_thresh_arr = np.linspace(0.01, 0.99, 100)\n",
        "\n",
        "dataset_transf_test_new = dataset_orig_test.copy(deepcopy=True)\n",
        "dataset_transf_test_new.scores = dataset_transf_test.scores\n",
        "\n",
        "\n",
        "for thresh in class_thresh_arr:\n",
        "\n",
        "    fav_inds = dataset_transf_test_new.scores > thresh\n",
        "    dataset_transf_test_new.labels[fav_inds] = 1.0\n",
        "    dataset_transf_test_new.labels[~fav_inds] = 0.0\n",
        "\n",
        "    metric_test_aft = compute_metrics(dataset_orig_test, dataset_transf_test_new,\n",
        "                                      unprivileged_groups, privileged_groups,\n",
        "                                      disp = False)\n",
        "\n",
        "    bal_acc_arr_transf.append(metric_test_aft[\"Balanced accuracy\"])\n",
        "    disp_imp_arr_transf.append(metric_test_aft[\"Disparate impact\"])"
      ]
    },
    {
      "cell_type": "code",
      "execution_count": 37,
      "metadata": {
        "colab": {
          "base_uri": "https://localhost:8080/",
          "height": 630
        },
        "id": "V9_kLfaeJMlK",
        "outputId": "5233f9a8-68e8-48d1-ed0d-c8b526ceba12"
      },
      "outputs": [
        {
          "output_type": "display_data",
          "data": {
            "text/plain": [
              "<Figure size 1000x700 with 2 Axes>"
            ],
            "image/png": "[encoded data removed]"
          },
          "metadata": {}
        }
      ],
      "source": [
        "fig, ax1 = plt.subplots(figsize=(10,7))\n",
        "ax1.plot(class_thresh_arr, bal_acc_arr_transf)\n",
        "ax1.set_xlabel('Classification Thresholds', fontsize=16, fontweight='bold')\n",
        "ax1.set_ylabel('Balanced Accuracy', color='b', fontsize=16, fontweight='bold')\n",
        "ax1.xaxis.set_tick_params(labelsize=14)\n",
        "ax1.yaxis.set_tick_params(labelsize=14)\n",
        "\n",
        "\n",
        "ax2 = ax1.twinx()\n",
        "ax2.plot(class_thresh_arr, np.abs(1.0-np.array(disp_imp_arr_transf)), color='r')\n",
        "ax2.set_ylabel('abs(1-disparate impact)', color='r', fontsize=16, fontweight='bold')\n",
        "ax2.yaxis.set_tick_params(labelsize=14)\n",
        "ax2.grid(True)"
      ]
    },
    {
      "cell_type": "markdown",
      "metadata": {
        "id": "c1rFal8YJMlK"
      },
      "source": [
        "abs(1-disparate impact) must be small (close to 0) for classifier predictions to be fair."
      ]
    },
    {
      "cell_type": "code",
      "execution_count": 38,
      "metadata": {
        "colab": {
          "base_uri": "https://localhost:8080/",
          "height": 128
        },
        "id": "5qvd6Oo6JMlK",
        "outputId": "b1ee8132-1e15-4431-9861-fee0ef882872"
      },
      "outputs": [
        {
          "output_type": "display_data",
          "data": {
            "text/plain": [
              "<IPython.core.display.Markdown object>"
            ],
            "text/markdown": "#### Individual fairness metrics"
          },
          "metadata": {}
        },
        {
          "output_type": "stream",
          "name": "stdout",
          "text": [
            "Consistency of labels in transformed training dataset= 1.000000\n",
            "Consistency of labels in original training dataset= 0.714183\n",
            "Consistency of labels in transformed test dataset= 1.000000\n",
            "Consistency of labels in original test dataset= 0.752337\n"
          ]
        }
      ],
      "source": [
        "display(Markdown(\"#### Individual fairness metrics\"))\n",
        "print(\"Consistency of labels in transformed training dataset= %f\" %metric_transf_train.consistency())\n",
        "print(\"Consistency of labels in original training dataset= %f\" %metric_orig_train.consistency())\n",
        "print(\"Consistency of labels in transformed test dataset= %f\" %metric_transf_test.consistency())\n",
        "print(\"Consistency of labels in original test dataset= %f\" %metric_orig_test.consistency())"
      ]
    },
    {
      "cell_type": "code",
      "execution_count": 39,
      "metadata": {
        "id": "xO0pRb_OJMlL"
      },
      "outputs": [],
      "source": [
        "def check_algorithm_success():\n",
        "    \"\"\"Transformed dataset consistency should be greater than original dataset.\"\"\"\n",
        "    assert metric_transf_test.consistency() > metric_orig_test.consistency(), \"Transformed dataset consistency should be greater than original dataset.\"\n",
        "\n",
        "check_algorithm_success()"
      ]
    },
    {
      "cell_type": "code",
      "execution_count": null,
      "metadata": {
        "id": "w5rLKCqTJMlL"
      },
      "outputs": [],
      "source": []
    }
  ],
  "metadata": {
    "kernelspec": {
      "display_name": "Python 3",
      "language": "python",
      "name": "python3"
    },
    "language_info": {
      "codemirror_mode": {
        "name": "ipython",
        "version": 3
      },
      "file_extension": ".py",
      "mimetype": "text/x-python",
      "name": "python",
      "nbconvert_exporter": "python",
      "pygments_lexer": "ipython3",
      "version": "3.6.10"
    },
    "colab": {
      "provenance": []
    }
  },
  "nbformat": 4,
  "nbformat_minor": 0
}
